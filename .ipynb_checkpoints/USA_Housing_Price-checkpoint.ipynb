{
 "cells": [
  {
   "cell_type": "markdown",
   "id": "d22a95f7",
   "metadata": {},
   "source": [
    "# USA_HOUSING PRICING"
   ]
  },
  {
   "cell_type": "markdown",
   "id": "5d592873",
   "metadata": {},
   "source": [
    "### 1. Import Libraries"
   ]
  },
  {
   "cell_type": "code",
   "execution_count": 115,
   "id": "b9168521",
   "metadata": {},
   "outputs": [],
   "source": [
    "import pandas as pd\n",
    "import numpy as np\n",
    "\n",
    "# from sklearn.datasets import load_bostono,load_breast_cancer\n",
    "\n",
    "from sklearn.linear_model import LinearRegression, Lasso, Ridge\n",
    "from statsmodels.stats.outliers_influence import variance_inflation_factor\n",
    "\n",
    "from sklearn.model_selection import train_test_split\n",
    "from sklearn.model_selection import GridSearchCV, RandomizedSearchCV\n",
    "from sklearn.metrics import mean_absolute_error, mean_squared_error, r2_score\n",
    "\n",
    "from scipy.stats import shapiro, kstest, normaltest, skew\n",
    "\n",
    "import statsmodels.api as sm\n",
    "import matplotlib.pyplot as plt\n",
    "import seaborn as sns"
   ]
  },
  {
   "cell_type": "markdown",
   "id": "f14a6718",
   "metadata": {},
   "source": [
    "### 2. Problem Statement"
   ]
  },
  {
   "cell_type": "code",
   "execution_count": null,
   "id": "ea80e07c",
   "metadata": {},
   "outputs": [],
   "source": [
    "To predict the house price at USA\n",
    "\n",
    "Dependent variable : \"Price\"\n",
    "    \n",
    "Independent variables : [\"Avg. Area Income\",\"Avg. Area House Age\",\"Avg. Area Number of Rooms\",\n",
    "                        \"Avg. Area Number of Bedrooms\",\"Area Population\"]"
   ]
  },
  {
   "cell_type": "markdown",
   "id": "b6ca6405",
   "metadata": {},
   "source": [
    "### 3. Data Gathering"
   ]
  },
  {
   "cell_type": "code",
   "execution_count": 116,
   "id": "a1e4c5c7",
   "metadata": {},
   "outputs": [
    {
     "data": {
      "text/html": [
       "<div>\n",
       "<style scoped>\n",
       "    .dataframe tbody tr th:only-of-type {\n",
       "        vertical-align: middle;\n",
       "    }\n",
       "\n",
       "    .dataframe tbody tr th {\n",
       "        vertical-align: top;\n",
       "    }\n",
       "\n",
       "    .dataframe thead th {\n",
       "        text-align: right;\n",
       "    }\n",
       "</style>\n",
       "<table border=\"1\" class=\"dataframe\">\n",
       "  <thead>\n",
       "    <tr style=\"text-align: right;\">\n",
       "      <th></th>\n",
       "      <th>Avg. Area Income</th>\n",
       "      <th>Avg. Area House Age</th>\n",
       "      <th>Avg. Area Number of Rooms</th>\n",
       "      <th>Avg. Area Number of Bedrooms</th>\n",
       "      <th>Area Population</th>\n",
       "      <th>Price</th>\n",
       "      <th>Address</th>\n",
       "    </tr>\n",
       "  </thead>\n",
       "  <tbody>\n",
       "    <tr>\n",
       "      <th>0</th>\n",
       "      <td>79545.45857</td>\n",
       "      <td>5.682861</td>\n",
       "      <td>7.009188</td>\n",
       "      <td>4.09</td>\n",
       "      <td>23086.80050</td>\n",
       "      <td>1.059034e+06</td>\n",
       "      <td>208 Michael Ferry Apt. 674\\nLaurabury, NE 3701...</td>\n",
       "    </tr>\n",
       "    <tr>\n",
       "      <th>1</th>\n",
       "      <td>79248.64245</td>\n",
       "      <td>6.002900</td>\n",
       "      <td>6.730821</td>\n",
       "      <td>3.09</td>\n",
       "      <td>40173.07217</td>\n",
       "      <td>1.505891e+06</td>\n",
       "      <td>188 Johnson Views Suite 079\\nLake Kathleen, CA...</td>\n",
       "    </tr>\n",
       "    <tr>\n",
       "      <th>2</th>\n",
       "      <td>80850.04183</td>\n",
       "      <td>6.635414</td>\n",
       "      <td>6.622450</td>\n",
       "      <td>2.10</td>\n",
       "      <td>41420.16082</td>\n",
       "      <td>1.501103e+06</td>\n",
       "      <td>PSC 9862, Box 7769\\nAPO AA 73086-0222</td>\n",
       "    </tr>\n",
       "    <tr>\n",
       "      <th>3</th>\n",
       "      <td>68901.14428</td>\n",
       "      <td>5.295318</td>\n",
       "      <td>NaN</td>\n",
       "      <td>2.01</td>\n",
       "      <td>30832.66831</td>\n",
       "      <td>9.567640e+05</td>\n",
       "      <td>53280 Renee Canyon\\nChristopherland, IL 44788-...</td>\n",
       "    </tr>\n",
       "    <tr>\n",
       "      <th>4</th>\n",
       "      <td>50442.26643</td>\n",
       "      <td>4.767998</td>\n",
       "      <td>7.248288</td>\n",
       "      <td>6.07</td>\n",
       "      <td>33439.80668</td>\n",
       "      <td>6.441425e+05</td>\n",
       "      <td>0645 Arroyo Trail\\nEast Michelle, LA 07906-8981</td>\n",
       "    </tr>\n",
       "    <tr>\n",
       "      <th>...</th>\n",
       "      <td>...</td>\n",
       "      <td>...</td>\n",
       "      <td>...</td>\n",
       "      <td>...</td>\n",
       "      <td>...</td>\n",
       "      <td>...</td>\n",
       "      <td>...</td>\n",
       "    </tr>\n",
       "    <tr>\n",
       "      <th>179</th>\n",
       "      <td>60567.94414</td>\n",
       "      <td>7.830362</td>\n",
       "      <td>6.137356</td>\n",
       "      <td>3.46</td>\n",
       "      <td>22837.36103</td>\n",
       "      <td>1.060194e+06</td>\n",
       "      <td>USNS Williams\\nFPO AP 30153-7653</td>\n",
       "    </tr>\n",
       "    <tr>\n",
       "      <th>180</th>\n",
       "      <td>78491.27543</td>\n",
       "      <td>6.999135</td>\n",
       "      <td>6.576763</td>\n",
       "      <td>4.02</td>\n",
       "      <td>25616.11549</td>\n",
       "      <td>1.482618e+06</td>\n",
       "      <td>PSC 9258, Box 8489\\nAPO AA 42991-3352</td>\n",
       "    </tr>\n",
       "    <tr>\n",
       "      <th>181</th>\n",
       "      <td>63390.68689</td>\n",
       "      <td>7.250591</td>\n",
       "      <td>4.805081</td>\n",
       "      <td>2.13</td>\n",
       "      <td>33266.14549</td>\n",
       "      <td>1.030730e+06</td>\n",
       "      <td>4215 Tracy Garden Suite 076\\nJoshualand, VA 01...</td>\n",
       "    </tr>\n",
       "    <tr>\n",
       "      <th>182</th>\n",
       "      <td>68001.33124</td>\n",
       "      <td>5.534388</td>\n",
       "      <td>7.130144</td>\n",
       "      <td>5.44</td>\n",
       "      <td>42625.62016</td>\n",
       "      <td>1.198657e+06</td>\n",
       "      <td>USS Wallace\\nFPO AE 73316</td>\n",
       "    </tr>\n",
       "    <tr>\n",
       "      <th>183</th>\n",
       "      <td>65510.58180</td>\n",
       "      <td>5.992305</td>\n",
       "      <td>6.792336</td>\n",
       "      <td>4.07</td>\n",
       "      <td>46501.28380</td>\n",
       "      <td>1.298950e+06</td>\n",
       "      <td>37778 George Ridges Apt. 509\\nEast Holly, NV 2...</td>\n",
       "    </tr>\n",
       "  </tbody>\n",
       "</table>\n",
       "<p>184 rows × 7 columns</p>\n",
       "</div>"
      ],
      "text/plain": [
       "     Avg. Area Income  Avg. Area House Age  Avg. Area Number of Rooms  \\\n",
       "0         79545.45857             5.682861                   7.009188   \n",
       "1         79248.64245             6.002900                   6.730821   \n",
       "2         80850.04183             6.635414                   6.622450   \n",
       "3         68901.14428             5.295318                        NaN   \n",
       "4         50442.26643             4.767998                   7.248288   \n",
       "..                ...                  ...                        ...   \n",
       "179       60567.94414             7.830362                   6.137356   \n",
       "180       78491.27543             6.999135                   6.576763   \n",
       "181       63390.68689             7.250591                   4.805081   \n",
       "182       68001.33124             5.534388                   7.130144   \n",
       "183       65510.58180             5.992305                   6.792336   \n",
       "\n",
       "     Avg. Area Number of Bedrooms  Area Population         Price  \\\n",
       "0                            4.09      23086.80050  1.059034e+06   \n",
       "1                            3.09      40173.07217  1.505891e+06   \n",
       "2                            2.10      41420.16082  1.501103e+06   \n",
       "3                            2.01      30832.66831  9.567640e+05   \n",
       "4                            6.07      33439.80668  6.441425e+05   \n",
       "..                            ...              ...           ...   \n",
       "179                          3.46      22837.36103  1.060194e+06   \n",
       "180                          4.02      25616.11549  1.482618e+06   \n",
       "181                          2.13      33266.14549  1.030730e+06   \n",
       "182                          5.44      42625.62016  1.198657e+06   \n",
       "183                          4.07      46501.28380  1.298950e+06   \n",
       "\n",
       "                                               Address  \n",
       "0    208 Michael Ferry Apt. 674\\nLaurabury, NE 3701...  \n",
       "1    188 Johnson Views Suite 079\\nLake Kathleen, CA...  \n",
       "2                PSC 9862, Box 7769\\nAPO AA 73086-0222  \n",
       "3    53280 Renee Canyon\\nChristopherland, IL 44788-...  \n",
       "4      0645 Arroyo Trail\\nEast Michelle, LA 07906-8981  \n",
       "..                                                 ...  \n",
       "179                   USNS Williams\\nFPO AP 30153-7653  \n",
       "180              PSC 9258, Box 8489\\nAPO AA 42991-3352  \n",
       "181  4215 Tracy Garden Suite 076\\nJoshualand, VA 01...  \n",
       "182                          USS Wallace\\nFPO AE 73316  \n",
       "183  37778 George Ridges Apt. 509\\nEast Holly, NV 2...  \n",
       "\n",
       "[184 rows x 7 columns]"
      ]
     },
     "execution_count": 116,
     "metadata": {},
     "output_type": "execute_result"
    }
   ],
   "source": [
    "df = pd.read_csv(\"USA_Housing1.csv\")\n",
    "df"
   ]
  },
  {
   "cell_type": "code",
   "execution_count": 117,
   "id": "ddb35703",
   "metadata": {},
   "outputs": [],
   "source": [
    "df = df.drop(\"Address\",axis = 1)"
   ]
  },
  {
   "cell_type": "code",
   "execution_count": 118,
   "id": "2fefb77f",
   "metadata": {},
   "outputs": [
    {
     "data": {
      "text/html": [
       "<div>\n",
       "<style scoped>\n",
       "    .dataframe tbody tr th:only-of-type {\n",
       "        vertical-align: middle;\n",
       "    }\n",
       "\n",
       "    .dataframe tbody tr th {\n",
       "        vertical-align: top;\n",
       "    }\n",
       "\n",
       "    .dataframe thead th {\n",
       "        text-align: right;\n",
       "    }\n",
       "</style>\n",
       "<table border=\"1\" class=\"dataframe\">\n",
       "  <thead>\n",
       "    <tr style=\"text-align: right;\">\n",
       "      <th></th>\n",
       "      <th>Avg. Area Income</th>\n",
       "      <th>Avg. Area House Age</th>\n",
       "      <th>Avg. Area Number of Rooms</th>\n",
       "      <th>Avg. Area Number of Bedrooms</th>\n",
       "      <th>Area Population</th>\n",
       "      <th>Price</th>\n",
       "    </tr>\n",
       "  </thead>\n",
       "  <tbody>\n",
       "    <tr>\n",
       "      <th>0</th>\n",
       "      <td>79545.45857</td>\n",
       "      <td>5.682861</td>\n",
       "      <td>7.009188</td>\n",
       "      <td>4.09</td>\n",
       "      <td>23086.80050</td>\n",
       "      <td>1.059034e+06</td>\n",
       "    </tr>\n",
       "    <tr>\n",
       "      <th>1</th>\n",
       "      <td>79248.64245</td>\n",
       "      <td>6.002900</td>\n",
       "      <td>6.730821</td>\n",
       "      <td>3.09</td>\n",
       "      <td>40173.07217</td>\n",
       "      <td>1.505891e+06</td>\n",
       "    </tr>\n",
       "    <tr>\n",
       "      <th>2</th>\n",
       "      <td>80850.04183</td>\n",
       "      <td>6.635414</td>\n",
       "      <td>6.622450</td>\n",
       "      <td>2.10</td>\n",
       "      <td>41420.16082</td>\n",
       "      <td>1.501103e+06</td>\n",
       "    </tr>\n",
       "    <tr>\n",
       "      <th>3</th>\n",
       "      <td>68901.14428</td>\n",
       "      <td>5.295318</td>\n",
       "      <td>NaN</td>\n",
       "      <td>2.01</td>\n",
       "      <td>30832.66831</td>\n",
       "      <td>9.567640e+05</td>\n",
       "    </tr>\n",
       "    <tr>\n",
       "      <th>4</th>\n",
       "      <td>50442.26643</td>\n",
       "      <td>4.767998</td>\n",
       "      <td>7.248288</td>\n",
       "      <td>6.07</td>\n",
       "      <td>33439.80668</td>\n",
       "      <td>6.441425e+05</td>\n",
       "    </tr>\n",
       "    <tr>\n",
       "      <th>...</th>\n",
       "      <td>...</td>\n",
       "      <td>...</td>\n",
       "      <td>...</td>\n",
       "      <td>...</td>\n",
       "      <td>...</td>\n",
       "      <td>...</td>\n",
       "    </tr>\n",
       "    <tr>\n",
       "      <th>179</th>\n",
       "      <td>60567.94414</td>\n",
       "      <td>7.830362</td>\n",
       "      <td>6.137356</td>\n",
       "      <td>3.46</td>\n",
       "      <td>22837.36103</td>\n",
       "      <td>1.060194e+06</td>\n",
       "    </tr>\n",
       "    <tr>\n",
       "      <th>180</th>\n",
       "      <td>78491.27543</td>\n",
       "      <td>6.999135</td>\n",
       "      <td>6.576763</td>\n",
       "      <td>4.02</td>\n",
       "      <td>25616.11549</td>\n",
       "      <td>1.482618e+06</td>\n",
       "    </tr>\n",
       "    <tr>\n",
       "      <th>181</th>\n",
       "      <td>63390.68689</td>\n",
       "      <td>7.250591</td>\n",
       "      <td>4.805081</td>\n",
       "      <td>2.13</td>\n",
       "      <td>33266.14549</td>\n",
       "      <td>1.030730e+06</td>\n",
       "    </tr>\n",
       "    <tr>\n",
       "      <th>182</th>\n",
       "      <td>68001.33124</td>\n",
       "      <td>5.534388</td>\n",
       "      <td>7.130144</td>\n",
       "      <td>5.44</td>\n",
       "      <td>42625.62016</td>\n",
       "      <td>1.198657e+06</td>\n",
       "    </tr>\n",
       "    <tr>\n",
       "      <th>183</th>\n",
       "      <td>65510.58180</td>\n",
       "      <td>5.992305</td>\n",
       "      <td>6.792336</td>\n",
       "      <td>4.07</td>\n",
       "      <td>46501.28380</td>\n",
       "      <td>1.298950e+06</td>\n",
       "    </tr>\n",
       "  </tbody>\n",
       "</table>\n",
       "<p>184 rows × 6 columns</p>\n",
       "</div>"
      ],
      "text/plain": [
       "     Avg. Area Income  Avg. Area House Age  Avg. Area Number of Rooms  \\\n",
       "0         79545.45857             5.682861                   7.009188   \n",
       "1         79248.64245             6.002900                   6.730821   \n",
       "2         80850.04183             6.635414                   6.622450   \n",
       "3         68901.14428             5.295318                        NaN   \n",
       "4         50442.26643             4.767998                   7.248288   \n",
       "..                ...                  ...                        ...   \n",
       "179       60567.94414             7.830362                   6.137356   \n",
       "180       78491.27543             6.999135                   6.576763   \n",
       "181       63390.68689             7.250591                   4.805081   \n",
       "182       68001.33124             5.534388                   7.130144   \n",
       "183       65510.58180             5.992305                   6.792336   \n",
       "\n",
       "     Avg. Area Number of Bedrooms  Area Population         Price  \n",
       "0                            4.09      23086.80050  1.059034e+06  \n",
       "1                            3.09      40173.07217  1.505891e+06  \n",
       "2                            2.10      41420.16082  1.501103e+06  \n",
       "3                            2.01      30832.66831  9.567640e+05  \n",
       "4                            6.07      33439.80668  6.441425e+05  \n",
       "..                            ...              ...           ...  \n",
       "179                          3.46      22837.36103  1.060194e+06  \n",
       "180                          4.02      25616.11549  1.482618e+06  \n",
       "181                          2.13      33266.14549  1.030730e+06  \n",
       "182                          5.44      42625.62016  1.198657e+06  \n",
       "183                          4.07      46501.28380  1.298950e+06  \n",
       "\n",
       "[184 rows x 6 columns]"
      ]
     },
     "execution_count": 118,
     "metadata": {},
     "output_type": "execute_result"
    }
   ],
   "source": [
    "df"
   ]
  },
  {
   "cell_type": "markdown",
   "id": "ecf259e1",
   "metadata": {},
   "source": [
    "### 3. EDA"
   ]
  },
  {
   "cell_type": "code",
   "execution_count": 119,
   "id": "016fe674",
   "metadata": {},
   "outputs": [
    {
     "name": "stdout",
     "output_type": "stream",
     "text": [
      "<class 'pandas.core.frame.DataFrame'>\n",
      "RangeIndex: 184 entries, 0 to 183\n",
      "Data columns (total 6 columns):\n",
      " #   Column                        Non-Null Count  Dtype  \n",
      "---  ------                        --------------  -----  \n",
      " 0   Avg. Area Income              181 non-null    float64\n",
      " 1   Avg. Area House Age           179 non-null    float64\n",
      " 2   Avg. Area Number of Rooms     181 non-null    float64\n",
      " 3   Avg. Area Number of Bedrooms  182 non-null    float64\n",
      " 4   Area Population               182 non-null    float64\n",
      " 5   Price                         181 non-null    float64\n",
      "dtypes: float64(6)\n",
      "memory usage: 8.8 KB\n"
     ]
    }
   ],
   "source": [
    "df.info()"
   ]
  },
  {
   "cell_type": "code",
   "execution_count": 120,
   "id": "ba75d399",
   "metadata": {},
   "outputs": [
    {
     "data": {
      "text/html": [
       "<div>\n",
       "<style scoped>\n",
       "    .dataframe tbody tr th:only-of-type {\n",
       "        vertical-align: middle;\n",
       "    }\n",
       "\n",
       "    .dataframe tbody tr th {\n",
       "        vertical-align: top;\n",
       "    }\n",
       "\n",
       "    .dataframe thead th {\n",
       "        text-align: right;\n",
       "    }\n",
       "</style>\n",
       "<table border=\"1\" class=\"dataframe\">\n",
       "  <thead>\n",
       "    <tr style=\"text-align: right;\">\n",
       "      <th></th>\n",
       "      <th>Avg. Area Income</th>\n",
       "      <th>Avg. Area House Age</th>\n",
       "      <th>Avg. Area Number of Rooms</th>\n",
       "      <th>Avg. Area Number of Bedrooms</th>\n",
       "      <th>Area Population</th>\n",
       "      <th>Price</th>\n",
       "    </tr>\n",
       "  </thead>\n",
       "  <tbody>\n",
       "    <tr>\n",
       "      <th>count</th>\n",
       "      <td>181.000000</td>\n",
       "      <td>179.000000</td>\n",
       "      <td>181.000000</td>\n",
       "      <td>182.000000</td>\n",
       "      <td>182.000000</td>\n",
       "      <td>1.810000e+02</td>\n",
       "    </tr>\n",
       "    <tr>\n",
       "      <th>mean</th>\n",
       "      <td>68798.094514</td>\n",
       "      <td>6.115510</td>\n",
       "      <td>6.973878</td>\n",
       "      <td>4.086044</td>\n",
       "      <td>36259.085755</td>\n",
       "      <td>1.245216e+06</td>\n",
       "    </tr>\n",
       "    <tr>\n",
       "      <th>std</th>\n",
       "      <td>10273.647122</td>\n",
       "      <td>0.992298</td>\n",
       "      <td>0.998345</td>\n",
       "      <td>1.329095</td>\n",
       "      <td>9483.984762</td>\n",
       "      <td>3.249193e+05</td>\n",
       "    </tr>\n",
       "    <tr>\n",
       "      <th>min</th>\n",
       "      <td>35797.323120</td>\n",
       "      <td>3.596319</td>\n",
       "      <td>4.425959</td>\n",
       "      <td>2.010000</td>\n",
       "      <td>14415.789200</td>\n",
       "      <td>2.998630e+05</td>\n",
       "    </tr>\n",
       "    <tr>\n",
       "      <th>25%</th>\n",
       "      <td>61783.900570</td>\n",
       "      <td>5.487648</td>\n",
       "      <td>6.312253</td>\n",
       "      <td>3.120000</td>\n",
       "      <td>30129.196460</td>\n",
       "      <td>1.032347e+06</td>\n",
       "    </tr>\n",
       "    <tr>\n",
       "      <th>50%</th>\n",
       "      <td>69639.140900</td>\n",
       "      <td>6.107499</td>\n",
       "      <td>6.981248</td>\n",
       "      <td>4.105000</td>\n",
       "      <td>36854.386275</td>\n",
       "      <td>1.249670e+06</td>\n",
       "    </tr>\n",
       "    <tr>\n",
       "      <th>75%</th>\n",
       "      <td>75980.438840</td>\n",
       "      <td>6.717596</td>\n",
       "      <td>7.619313</td>\n",
       "      <td>5.117500</td>\n",
       "      <td>42777.347090</td>\n",
       "      <td>1.482618e+06</td>\n",
       "    </tr>\n",
       "    <tr>\n",
       "      <th>max</th>\n",
       "      <td>94805.338640</td>\n",
       "      <td>8.916093</td>\n",
       "      <td>9.295571</td>\n",
       "      <td>6.500000</td>\n",
       "      <td>60849.316860</td>\n",
       "      <td>2.108376e+06</td>\n",
       "    </tr>\n",
       "  </tbody>\n",
       "</table>\n",
       "</div>"
      ],
      "text/plain": [
       "       Avg. Area Income  Avg. Area House Age  Avg. Area Number of Rooms  \\\n",
       "count        181.000000           179.000000                 181.000000   \n",
       "mean       68798.094514             6.115510                   6.973878   \n",
       "std        10273.647122             0.992298                   0.998345   \n",
       "min        35797.323120             3.596319                   4.425959   \n",
       "25%        61783.900570             5.487648                   6.312253   \n",
       "50%        69639.140900             6.107499                   6.981248   \n",
       "75%        75980.438840             6.717596                   7.619313   \n",
       "max        94805.338640             8.916093                   9.295571   \n",
       "\n",
       "       Avg. Area Number of Bedrooms  Area Population         Price  \n",
       "count                    182.000000       182.000000  1.810000e+02  \n",
       "mean                       4.086044     36259.085755  1.245216e+06  \n",
       "std                        1.329095      9483.984762  3.249193e+05  \n",
       "min                        2.010000     14415.789200  2.998630e+05  \n",
       "25%                        3.120000     30129.196460  1.032347e+06  \n",
       "50%                        4.105000     36854.386275  1.249670e+06  \n",
       "75%                        5.117500     42777.347090  1.482618e+06  \n",
       "max                        6.500000     60849.316860  2.108376e+06  "
      ]
     },
     "execution_count": 120,
     "metadata": {},
     "output_type": "execute_result"
    }
   ],
   "source": [
    "df.describe()"
   ]
  },
  {
   "cell_type": "markdown",
   "id": "f80d9bfe",
   "metadata": {},
   "source": [
    "#### 3.1 Avg. Area Income"
   ]
  },
  {
   "cell_type": "code",
   "execution_count": 121,
   "id": "ba818de6",
   "metadata": {},
   "outputs": [
    {
     "name": "stdout",
     "output_type": "stream",
     "text": [
      "<class 'pandas.core.series.Series'>\n",
      "RangeIndex: 184 entries, 0 to 183\n",
      "Series name: Avg. Area Income\n",
      "Non-Null Count  Dtype  \n",
      "--------------  -----  \n",
      "181 non-null    float64\n",
      "dtypes: float64(1)\n",
      "memory usage: 1.6 KB\n"
     ]
    }
   ],
   "source": [
    "df[\"Avg. Area Income\"].info()"
   ]
  },
  {
   "cell_type": "code",
   "execution_count": 122,
   "id": "4dc3059c",
   "metadata": {},
   "outputs": [
    {
     "data": {
      "text/plain": [
       "3"
      ]
     },
     "execution_count": 122,
     "metadata": {},
     "output_type": "execute_result"
    }
   ],
   "source": [
    "df[\"Avg. Area Income\"].isna().sum()"
   ]
  },
  {
   "cell_type": "code",
   "execution_count": 123,
   "id": "a979dd9f",
   "metadata": {},
   "outputs": [
    {
     "data": {
      "text/plain": [
       "0"
      ]
     },
     "execution_count": 123,
     "metadata": {},
     "output_type": "execute_result"
    }
   ],
   "source": [
    "df[\"Avg. Area Income\"] = df[\"Avg. Area Income\"].fillna(df[\"Avg. Area Income\"].median())\n",
    "df[\"Avg. Area Income\"].isna().sum()"
   ]
  },
  {
   "cell_type": "markdown",
   "id": "39a7396e",
   "metadata": {},
   "source": [
    "#### 3.2 Avg. Area House Age"
   ]
  },
  {
   "cell_type": "code",
   "execution_count": 124,
   "id": "ea521b4e",
   "metadata": {},
   "outputs": [
    {
     "name": "stdout",
     "output_type": "stream",
     "text": [
      "<class 'pandas.core.series.Series'>\n",
      "RangeIndex: 184 entries, 0 to 183\n",
      "Series name: Avg. Area House Age\n",
      "Non-Null Count  Dtype  \n",
      "--------------  -----  \n",
      "179 non-null    float64\n",
      "dtypes: float64(1)\n",
      "memory usage: 1.6 KB\n"
     ]
    }
   ],
   "source": [
    "df[\"Avg. Area House Age\"].info()"
   ]
  },
  {
   "cell_type": "code",
   "execution_count": 125,
   "id": "d78615ab",
   "metadata": {},
   "outputs": [
    {
     "data": {
      "text/plain": [
       "5"
      ]
     },
     "execution_count": 125,
     "metadata": {},
     "output_type": "execute_result"
    }
   ],
   "source": [
    "df[\"Avg. Area House Age\"].isna().sum()"
   ]
  },
  {
   "cell_type": "code",
   "execution_count": 126,
   "id": "4c2b7b3a",
   "metadata": {},
   "outputs": [],
   "source": [
    "df[\"Avg. Area House Age\"].replace({np.nan : df[\"Avg. Area House Age\"].mean()}, inplace=True)"
   ]
  },
  {
   "cell_type": "code",
   "execution_count": 127,
   "id": "c5e0bf67",
   "metadata": {},
   "outputs": [
    {
     "data": {
      "text/plain": [
       "0"
      ]
     },
     "execution_count": 127,
     "metadata": {},
     "output_type": "execute_result"
    }
   ],
   "source": [
    "df[\"Avg. Area House Age\"].isna().sum()"
   ]
  },
  {
   "cell_type": "markdown",
   "id": "3f239eee",
   "metadata": {},
   "source": [
    "#### 3.3 Avg. Area Number of Rooms"
   ]
  },
  {
   "cell_type": "code",
   "execution_count": 128,
   "id": "08147dff",
   "metadata": {},
   "outputs": [
    {
     "name": "stdout",
     "output_type": "stream",
     "text": [
      "<class 'pandas.core.series.Series'>\n",
      "RangeIndex: 184 entries, 0 to 183\n",
      "Series name: Avg. Area Number of Rooms\n",
      "Non-Null Count  Dtype  \n",
      "--------------  -----  \n",
      "181 non-null    float64\n",
      "dtypes: float64(1)\n",
      "memory usage: 1.6 KB\n"
     ]
    }
   ],
   "source": [
    "df[\"Avg. Area Number of Rooms\"].info()"
   ]
  },
  {
   "cell_type": "code",
   "execution_count": 129,
   "id": "efc91cb6",
   "metadata": {},
   "outputs": [
    {
     "data": {
      "text/plain": [
       "3"
      ]
     },
     "execution_count": 129,
     "metadata": {},
     "output_type": "execute_result"
    }
   ],
   "source": [
    "df[\"Avg. Area Number of Rooms\"].isna().sum()"
   ]
  },
  {
   "cell_type": "code",
   "execution_count": 130,
   "id": "c68fe403",
   "metadata": {},
   "outputs": [
    {
     "data": {
      "text/plain": [
       "0"
      ]
     },
     "execution_count": 130,
     "metadata": {},
     "output_type": "execute_result"
    }
   ],
   "source": [
    "df[\"Avg. Area Number of Rooms\"].replace({np.nan:df[\"Avg. Area Number of Rooms\"].mean()}, inplace=True)\n",
    "df[\"Avg. Area Number of Rooms\"].isna().sum()"
   ]
  },
  {
   "cell_type": "markdown",
   "id": "53c3ac7d",
   "metadata": {},
   "source": [
    "#### 3.4 Avg. Area Number of Bedrooms"
   ]
  },
  {
   "cell_type": "code",
   "execution_count": 131,
   "id": "976cbbed",
   "metadata": {},
   "outputs": [
    {
     "data": {
      "text/plain": [
       "2"
      ]
     },
     "execution_count": 131,
     "metadata": {},
     "output_type": "execute_result"
    }
   ],
   "source": [
    "df[\"Avg. Area Number of Bedrooms\"].isna().sum()"
   ]
  },
  {
   "cell_type": "code",
   "execution_count": 132,
   "id": "c0e93616",
   "metadata": {},
   "outputs": [
    {
     "data": {
      "text/plain": [
       "0"
      ]
     },
     "execution_count": 132,
     "metadata": {},
     "output_type": "execute_result"
    }
   ],
   "source": [
    "df[\"Avg. Area Number of Bedrooms\"].replace({np.nan:df[\"Avg. Area Number of Bedrooms\"].mean()}, inplace=True)\n",
    "df[\"Avg. Area Number of Bedrooms\"].isna().sum()"
   ]
  },
  {
   "cell_type": "markdown",
   "id": "a06e1aaf",
   "metadata": {},
   "source": [
    "#### 3.5 Area Population"
   ]
  },
  {
   "cell_type": "code",
   "execution_count": 133,
   "id": "d982d07c",
   "metadata": {},
   "outputs": [
    {
     "data": {
      "text/plain": [
       "2"
      ]
     },
     "execution_count": 133,
     "metadata": {},
     "output_type": "execute_result"
    }
   ],
   "source": [
    "df[\"Area Population\"].isna().sum()"
   ]
  },
  {
   "cell_type": "code",
   "execution_count": 134,
   "id": "d6667479",
   "metadata": {},
   "outputs": [
    {
     "data": {
      "text/plain": [
       "0"
      ]
     },
     "execution_count": 134,
     "metadata": {},
     "output_type": "execute_result"
    }
   ],
   "source": [
    "df[\"Area Population\"] = df[\"Area Population\"].fillna(df[\"Area Population\"].mean())\n",
    "df[\"Area Population\"].isna().sum()"
   ]
  },
  {
   "cell_type": "markdown",
   "id": "174c6bfd",
   "metadata": {},
   "source": [
    "#### 3.6 Price"
   ]
  },
  {
   "cell_type": "code",
   "execution_count": 135,
   "id": "4b001735",
   "metadata": {},
   "outputs": [
    {
     "data": {
      "text/plain": [
       "3"
      ]
     },
     "execution_count": 135,
     "metadata": {},
     "output_type": "execute_result"
    }
   ],
   "source": [
    "df[\"Price\"].isna().sum()"
   ]
  },
  {
   "cell_type": "code",
   "execution_count": 136,
   "id": "26e72c91",
   "metadata": {},
   "outputs": [
    {
     "data": {
      "text/plain": [
       "0"
      ]
     },
     "execution_count": 136,
     "metadata": {},
     "output_type": "execute_result"
    }
   ],
   "source": [
    "df[\"Price\"] = df[\"Price\"].fillna(df[\"Price\"].mean())\n",
    "df[\"Price\"].isna().sum()"
   ]
  },
  {
   "cell_type": "code",
   "execution_count": 137,
   "id": "06dab6ca",
   "metadata": {},
   "outputs": [
    {
     "name": "stdout",
     "output_type": "stream",
     "text": [
      "<class 'pandas.core.frame.DataFrame'>\n",
      "RangeIndex: 184 entries, 0 to 183\n",
      "Data columns (total 6 columns):\n",
      " #   Column                        Non-Null Count  Dtype  \n",
      "---  ------                        --------------  -----  \n",
      " 0   Avg. Area Income              184 non-null    float64\n",
      " 1   Avg. Area House Age           184 non-null    float64\n",
      " 2   Avg. Area Number of Rooms     184 non-null    float64\n",
      " 3   Avg. Area Number of Bedrooms  184 non-null    float64\n",
      " 4   Area Population               184 non-null    float64\n",
      " 5   Price                         184 non-null    float64\n",
      "dtypes: float64(6)\n",
      "memory usage: 8.8 KB\n"
     ]
    }
   ],
   "source": [
    "df.info()"
   ]
  },
  {
   "cell_type": "markdown",
   "id": "ef358db4",
   "metadata": {},
   "source": [
    "### 4. Feature Selection"
   ]
  },
  {
   "cell_type": "code",
   "execution_count": 138,
   "id": "1257015d",
   "metadata": {},
   "outputs": [
    {
     "data": {
      "text/html": [
       "<div>\n",
       "<style scoped>\n",
       "    .dataframe tbody tr th:only-of-type {\n",
       "        vertical-align: middle;\n",
       "    }\n",
       "\n",
       "    .dataframe tbody tr th {\n",
       "        vertical-align: top;\n",
       "    }\n",
       "\n",
       "    .dataframe thead th {\n",
       "        text-align: right;\n",
       "    }\n",
       "</style>\n",
       "<table border=\"1\" class=\"dataframe\">\n",
       "  <thead>\n",
       "    <tr style=\"text-align: right;\">\n",
       "      <th></th>\n",
       "      <th>Avg. Area Income</th>\n",
       "      <th>Avg. Area House Age</th>\n",
       "      <th>Avg. Area Number of Rooms</th>\n",
       "      <th>Avg. Area Number of Bedrooms</th>\n",
       "      <th>Area Population</th>\n",
       "      <th>Price</th>\n",
       "    </tr>\n",
       "  </thead>\n",
       "  <tbody>\n",
       "    <tr>\n",
       "      <th>Avg. Area Income</th>\n",
       "      <td>1.038289e+08</td>\n",
       "      <td>1009.673247</td>\n",
       "      <td>-1445.420065</td>\n",
       "      <td>-1629.907135</td>\n",
       "      <td>-8.347192e+06</td>\n",
       "      <td>2.095784e+09</td>\n",
       "    </tr>\n",
       "    <tr>\n",
       "      <th>Avg. Area House Age</th>\n",
       "      <td>1.009673e+03</td>\n",
       "      <td>0.957752</td>\n",
       "      <td>-0.111115</td>\n",
       "      <td>-0.157279</td>\n",
       "      <td>-1.307867e+03</td>\n",
       "      <td>1.438109e+05</td>\n",
       "    </tr>\n",
       "    <tr>\n",
       "      <th>Avg. Area Number of Rooms</th>\n",
       "      <td>-1.445420e+03</td>\n",
       "      <td>-0.111115</td>\n",
       "      <td>0.980354</td>\n",
       "      <td>0.629226</td>\n",
       "      <td>6.647504e+02</td>\n",
       "      <td>8.207064e+04</td>\n",
       "    </tr>\n",
       "    <tr>\n",
       "      <th>Avg. Area Number of Bedrooms</th>\n",
       "      <td>-1.629907e+03</td>\n",
       "      <td>-0.157279</td>\n",
       "      <td>0.629226</td>\n",
       "      <td>1.747189</td>\n",
       "      <td>8.278109e+01</td>\n",
       "      <td>3.285889e+04</td>\n",
       "    </tr>\n",
       "    <tr>\n",
       "      <th>Area Population</th>\n",
       "      <td>-8.347192e+06</td>\n",
       "      <td>-1307.866613</td>\n",
       "      <td>664.750360</td>\n",
       "      <td>82.781088</td>\n",
       "      <td>8.896295e+07</td>\n",
       "      <td>9.526299e+08</td>\n",
       "    </tr>\n",
       "    <tr>\n",
       "      <th>Price</th>\n",
       "      <td>2.095784e+09</td>\n",
       "      <td>143810.914252</td>\n",
       "      <td>82070.641245</td>\n",
       "      <td>32858.891417</td>\n",
       "      <td>9.526299e+08</td>\n",
       "      <td>1.038418e+11</td>\n",
       "    </tr>\n",
       "  </tbody>\n",
       "</table>\n",
       "</div>"
      ],
      "text/plain": [
       "                              Avg. Area Income  Avg. Area House Age  \\\n",
       "Avg. Area Income                  1.038289e+08          1009.673247   \n",
       "Avg. Area House Age               1.009673e+03             0.957752   \n",
       "Avg. Area Number of Rooms        -1.445420e+03            -0.111115   \n",
       "Avg. Area Number of Bedrooms     -1.629907e+03            -0.157279   \n",
       "Area Population                  -8.347192e+06         -1307.866613   \n",
       "Price                             2.095784e+09        143810.914252   \n",
       "\n",
       "                              Avg. Area Number of Rooms  \\\n",
       "Avg. Area Income                           -1445.420065   \n",
       "Avg. Area House Age                           -0.111115   \n",
       "Avg. Area Number of Rooms                      0.980354   \n",
       "Avg. Area Number of Bedrooms                   0.629226   \n",
       "Area Population                              664.750360   \n",
       "Price                                      82070.641245   \n",
       "\n",
       "                              Avg. Area Number of Bedrooms  Area Population  \\\n",
       "Avg. Area Income                              -1629.907135    -8.347192e+06   \n",
       "Avg. Area House Age                              -0.157279    -1.307867e+03   \n",
       "Avg. Area Number of Rooms                         0.629226     6.647504e+02   \n",
       "Avg. Area Number of Bedrooms                      1.747189     8.278109e+01   \n",
       "Area Population                                  82.781088     8.896295e+07   \n",
       "Price                                         32858.891417     9.526299e+08   \n",
       "\n",
       "                                     Price  \n",
       "Avg. Area Income              2.095784e+09  \n",
       "Avg. Area House Age           1.438109e+05  \n",
       "Avg. Area Number of Rooms     8.207064e+04  \n",
       "Avg. Area Number of Bedrooms  3.285889e+04  \n",
       "Area Population               9.526299e+08  \n",
       "Price                         1.038418e+11  "
      ]
     },
     "execution_count": 138,
     "metadata": {},
     "output_type": "execute_result"
    }
   ],
   "source": [
    "# Check Linearity\n",
    "df.cov()"
   ]
  },
  {
   "cell_type": "code",
   "execution_count": 139,
   "id": "51fbdc8c",
   "metadata": {},
   "outputs": [
    {
     "data": {
      "text/html": [
       "<div>\n",
       "<style scoped>\n",
       "    .dataframe tbody tr th:only-of-type {\n",
       "        vertical-align: middle;\n",
       "    }\n",
       "\n",
       "    .dataframe tbody tr th {\n",
       "        vertical-align: top;\n",
       "    }\n",
       "\n",
       "    .dataframe thead th {\n",
       "        text-align: right;\n",
       "    }\n",
       "</style>\n",
       "<table border=\"1\" class=\"dataframe\">\n",
       "  <thead>\n",
       "    <tr style=\"text-align: right;\">\n",
       "      <th></th>\n",
       "      <th>Avg. Area Income</th>\n",
       "      <th>Avg. Area House Age</th>\n",
       "      <th>Avg. Area Number of Rooms</th>\n",
       "      <th>Avg. Area Number of Bedrooms</th>\n",
       "      <th>Area Population</th>\n",
       "      <th>Price</th>\n",
       "    </tr>\n",
       "  </thead>\n",
       "  <tbody>\n",
       "    <tr>\n",
       "      <th>Avg. Area Income</th>\n",
       "      <td>1.000000</td>\n",
       "      <td>0.101250</td>\n",
       "      <td>-0.143266</td>\n",
       "      <td>-0.121013</td>\n",
       "      <td>-0.086851</td>\n",
       "      <td>0.638265</td>\n",
       "    </tr>\n",
       "    <tr>\n",
       "      <th>Avg. Area House Age</th>\n",
       "      <td>0.101250</td>\n",
       "      <td>1.000000</td>\n",
       "      <td>-0.114671</td>\n",
       "      <td>-0.121584</td>\n",
       "      <td>-0.141688</td>\n",
       "      <td>0.456015</td>\n",
       "    </tr>\n",
       "    <tr>\n",
       "      <th>Avg. Area Number of Rooms</th>\n",
       "      <td>-0.143266</td>\n",
       "      <td>-0.114671</td>\n",
       "      <td>1.000000</td>\n",
       "      <td>0.480779</td>\n",
       "      <td>0.071181</td>\n",
       "      <td>0.257223</td>\n",
       "    </tr>\n",
       "    <tr>\n",
       "      <th>Avg. Area Number of Bedrooms</th>\n",
       "      <td>-0.121013</td>\n",
       "      <td>-0.121584</td>\n",
       "      <td>0.480779</td>\n",
       "      <td>1.000000</td>\n",
       "      <td>0.006640</td>\n",
       "      <td>0.077143</td>\n",
       "    </tr>\n",
       "    <tr>\n",
       "      <th>Area Population</th>\n",
       "      <td>-0.086851</td>\n",
       "      <td>-0.141688</td>\n",
       "      <td>0.071181</td>\n",
       "      <td>0.006640</td>\n",
       "      <td>1.000000</td>\n",
       "      <td>0.313425</td>\n",
       "    </tr>\n",
       "    <tr>\n",
       "      <th>Price</th>\n",
       "      <td>0.638265</td>\n",
       "      <td>0.456015</td>\n",
       "      <td>0.257223</td>\n",
       "      <td>0.077143</td>\n",
       "      <td>0.313425</td>\n",
       "      <td>1.000000</td>\n",
       "    </tr>\n",
       "  </tbody>\n",
       "</table>\n",
       "</div>"
      ],
      "text/plain": [
       "                              Avg. Area Income  Avg. Area House Age  \\\n",
       "Avg. Area Income                      1.000000             0.101250   \n",
       "Avg. Area House Age                   0.101250             1.000000   \n",
       "Avg. Area Number of Rooms            -0.143266            -0.114671   \n",
       "Avg. Area Number of Bedrooms         -0.121013            -0.121584   \n",
       "Area Population                      -0.086851            -0.141688   \n",
       "Price                                 0.638265             0.456015   \n",
       "\n",
       "                              Avg. Area Number of Rooms  \\\n",
       "Avg. Area Income                              -0.143266   \n",
       "Avg. Area House Age                           -0.114671   \n",
       "Avg. Area Number of Rooms                      1.000000   \n",
       "Avg. Area Number of Bedrooms                   0.480779   \n",
       "Area Population                                0.071181   \n",
       "Price                                          0.257223   \n",
       "\n",
       "                              Avg. Area Number of Bedrooms  Area Population  \\\n",
       "Avg. Area Income                                 -0.121013        -0.086851   \n",
       "Avg. Area House Age                              -0.121584        -0.141688   \n",
       "Avg. Area Number of Rooms                         0.480779         0.071181   \n",
       "Avg. Area Number of Bedrooms                      1.000000         0.006640   \n",
       "Area Population                                   0.006640         1.000000   \n",
       "Price                                             0.077143         0.313425   \n",
       "\n",
       "                                 Price  \n",
       "Avg. Area Income              0.638265  \n",
       "Avg. Area House Age           0.456015  \n",
       "Avg. Area Number of Rooms     0.257223  \n",
       "Avg. Area Number of Bedrooms  0.077143  \n",
       "Area Population               0.313425  \n",
       "Price                         1.000000  "
      ]
     },
     "execution_count": 139,
     "metadata": {},
     "output_type": "execute_result"
    }
   ],
   "source": [
    "df.corr()"
   ]
  },
  {
   "cell_type": "code",
   "execution_count": 140,
   "id": "db7e5646",
   "metadata": {},
   "outputs": [
    {
     "data": {
      "image/png": "[encoded data removed]",
      "text/plain": [
       "<Figure size 720x504 with 2 Axes>"
      ]
     },
     "metadata": {
      "needs_background": "light"
     },
     "output_type": "display_data"
    }
   ],
   "source": [
    "# check through Heatmap\n",
    "plt.figure(figsize = (10,7))\n",
    "sns.heatmap(df.corr(), annot = True)\n",
    "plt.savefig(\"Correlation.png\")"
   ]
  },
  {
   "cell_type": "code",
   "execution_count": 141,
   "id": "7ae400af",
   "metadata": {
    "scrolled": true
   },
   "outputs": [
    {
     "data": {
      "text/html": [
       "<div>\n",
       "<style scoped>\n",
       "    .dataframe tbody tr th:only-of-type {\n",
       "        vertical-align: middle;\n",
       "    }\n",
       "\n",
       "    .dataframe tbody tr th {\n",
       "        vertical-align: top;\n",
       "    }\n",
       "\n",
       "    .dataframe thead th {\n",
       "        text-align: right;\n",
       "    }\n",
       "</style>\n",
       "<table border=\"1\" class=\"dataframe\">\n",
       "  <thead>\n",
       "    <tr style=\"text-align: right;\">\n",
       "      <th></th>\n",
       "      <th>Avg. Area Income</th>\n",
       "      <th>Avg. Area House Age</th>\n",
       "      <th>Avg. Area Number of Rooms</th>\n",
       "      <th>Avg. Area Number of Bedrooms</th>\n",
       "      <th>Area Population</th>\n",
       "      <th>Price</th>\n",
       "    </tr>\n",
       "  </thead>\n",
       "  <tbody>\n",
       "    <tr>\n",
       "      <th>Price</th>\n",
       "      <td>0.638265</td>\n",
       "      <td>0.456015</td>\n",
       "      <td>0.257223</td>\n",
       "      <td>0.077143</td>\n",
       "      <td>0.313425</td>\n",
       "      <td>1.0</td>\n",
       "    </tr>\n",
       "  </tbody>\n",
       "</table>\n",
       "</div>"
      ],
      "text/plain": [
       "       Avg. Area Income  Avg. Area House Age  Avg. Area Number of Rooms  \\\n",
       "Price          0.638265             0.456015                   0.257223   \n",
       "\n",
       "       Avg. Area Number of Bedrooms  Area Population  Price  \n",
       "Price                      0.077143         0.313425    1.0  "
      ]
     },
     "execution_count": 141,
     "metadata": {},
     "output_type": "execute_result"
    }
   ],
   "source": [
    "correlation = df.corr().tail(1)\n",
    "correlation"
   ]
  },
  {
   "cell_type": "code",
   "execution_count": 142,
   "id": "10a67638",
   "metadata": {},
   "outputs": [
    {
     "data": {
      "text/plain": [
       "6"
      ]
     },
     "execution_count": 142,
     "metadata": {},
     "output_type": "execute_result"
    }
   ],
   "source": [
    "df.shape[1]"
   ]
  },
  {
   "cell_type": "code",
   "execution_count": 143,
   "id": "7d0a39a8",
   "metadata": {},
   "outputs": [
    {
     "data": {
      "text/plain": [
       "Index(['Avg. Area Income', 'Avg. Area House Age', 'Avg. Area Number of Rooms',\n",
       "       'Avg. Area Number of Bedrooms', 'Area Population', 'Price'],\n",
       "      dtype='object')"
      ]
     },
     "execution_count": 143,
     "metadata": {},
     "output_type": "execute_result"
    }
   ],
   "source": [
    "df.columns"
   ]
  },
  {
   "cell_type": "code",
   "execution_count": 144,
   "id": "1aa1a73d",
   "metadata": {},
   "outputs": [
    {
     "name": "stderr",
     "output_type": "stream",
     "text": [
      "2022/12/06 19:51:52 WARNING mlflow.utils.autologging_utils: Encountered unexpected error during statsmodels autologging: 'F:\\Velocity_Aug_22\\Class\\Dec_22\\PR_FASK\\USA_Housing_PRICE\\mlruns' does not exist.\n",
      "2022/12/06 19:51:52 WARNING mlflow.utils.autologging_utils: Encountered unexpected error during statsmodels autologging: 'F:\\Velocity_Aug_22\\Class\\Dec_22\\PR_FASK\\USA_Housing_PRICE\\mlruns' does not exist.\n",
      "2022/12/06 19:51:52 WARNING mlflow.utils.autologging_utils: Encountered unexpected error during statsmodels autologging: 'F:\\Velocity_Aug_22\\Class\\Dec_22\\PR_FASK\\USA_Housing_PRICE\\mlruns' does not exist.\n",
      "2022/12/06 19:51:52 WARNING mlflow.utils.autologging_utils: Encountered unexpected error during statsmodels autologging: 'F:\\Velocity_Aug_22\\Class\\Dec_22\\PR_FASK\\USA_Housing_PRICE\\mlruns' does not exist.\n",
      "2022/12/06 19:51:52 WARNING mlflow.utils.autologging_utils: Encountered unexpected error during statsmodels autologging: 'F:\\Velocity_Aug_22\\Class\\Dec_22\\PR_FASK\\USA_Housing_PRICE\\mlruns' does not exist.\n"
     ]
    },
    {
     "name": "stdout",
     "output_type": "stream",
     "text": [
      "VIF for Avg. Area Income : 43.35110034815473\n",
      "VIF for Avg. Area House Age : 32.50513013212348\n",
      "VIF for Avg. Area Number of Rooms : 48.19431703300389\n",
      "VIF for Avg. Area Number of Bedrooms : 13.895001060306424\n",
      "VIF for Area Population : 15.359540739984814\n"
     ]
    }
   ],
   "source": [
    "# Detect Multicolinearity\n",
    "vif_list = []\n",
    "for i in range(df.shape[1]-1):\n",
    "    vif = variance_inflation_factor(df.to_numpy(), i)\n",
    "    vif_list.append(vif)\n",
    "    print(f\"VIF for {df.columns[i]} : {vif}\")"
   ]
  },
  {
   "cell_type": "code",
   "execution_count": 145,
   "id": "9ac129c9",
   "metadata": {},
   "outputs": [
    {
     "data": {
      "text/plain": [
       "Avg. Area Number of Bedrooms    13.895001\n",
       "Area Population                 15.359541\n",
       "Avg. Area House Age             32.505130\n",
       "Avg. Area Income                43.351100\n",
       "Avg. Area Number of Rooms       48.194317\n",
       "dtype: float64"
      ]
     },
     "execution_count": 145,
     "metadata": {},
     "output_type": "execute_result"
    }
   ],
   "source": [
    "x = df.drop(\"Price\", axis=1)\n",
    "y = df[\"Price\"]\n",
    "s1_m = pd.Series(vif_list, index =x.columns)\n",
    "s1_m.sort_values()"
   ]
  },
  {
   "cell_type": "code",
   "execution_count": 146,
   "id": "d305c427",
   "metadata": {},
   "outputs": [
    {
     "data": {
      "text/plain": [
       "<AxesSubplot:>"
      ]
     },
     "execution_count": 146,
     "metadata": {},
     "output_type": "execute_result"
    },
    {
     "data": {
      "image/png": "[encoded data removed]",
      "text/plain": [
       "<Figure size 432x288 with 1 Axes>"
      ]
     },
     "metadata": {
      "needs_background": "light"
     },
     "output_type": "display_data"
    }
   ],
   "source": [
    "s1_m.sort_values().plot(kind=\"bar\")"
   ]
  },
  {
   "cell_type": "code",
   "execution_count": 147,
   "id": "c2daea9d",
   "metadata": {},
   "outputs": [
    {
     "data": {
      "text/plain": [
       "<AxesSubplot:>"
      ]
     },
     "execution_count": 147,
     "metadata": {},
     "output_type": "execute_result"
    },
    {
     "data": {
      "image/png": "[encoded data removed]",
      "text/plain": [
       "<Figure size 432x288 with 1 Axes>"
      ]
     },
     "metadata": {
      "needs_background": "light"
     },
     "output_type": "display_data"
    }
   ],
   "source": [
    "s1_m.sort_values().plot(kind=\"barh\")"
   ]
  },
  {
   "cell_type": "markdown",
   "id": "33cd259a",
   "metadata": {},
   "source": [
    "### 5.Model training"
   ]
  },
  {
   "cell_type": "code",
   "execution_count": 148,
   "id": "4e88aa0b",
   "metadata": {},
   "outputs": [
    {
     "data": {
      "text/html": [
       "<div>\n",
       "<style scoped>\n",
       "    .dataframe tbody tr th:only-of-type {\n",
       "        vertical-align: middle;\n",
       "    }\n",
       "\n",
       "    .dataframe tbody tr th {\n",
       "        vertical-align: top;\n",
       "    }\n",
       "\n",
       "    .dataframe thead th {\n",
       "        text-align: right;\n",
       "    }\n",
       "</style>\n",
       "<table border=\"1\" class=\"dataframe\">\n",
       "  <thead>\n",
       "    <tr style=\"text-align: right;\">\n",
       "      <th></th>\n",
       "      <th>Avg. Area Income</th>\n",
       "      <th>Avg. Area House Age</th>\n",
       "      <th>Avg. Area Number of Rooms</th>\n",
       "      <th>Avg. Area Number of Bedrooms</th>\n",
       "      <th>Area Population</th>\n",
       "    </tr>\n",
       "  </thead>\n",
       "  <tbody>\n",
       "    <tr>\n",
       "      <th>0</th>\n",
       "      <td>79545.45857</td>\n",
       "      <td>5.682861</td>\n",
       "      <td>7.009188</td>\n",
       "      <td>4.09</td>\n",
       "      <td>23086.80050</td>\n",
       "    </tr>\n",
       "    <tr>\n",
       "      <th>1</th>\n",
       "      <td>79248.64245</td>\n",
       "      <td>6.002900</td>\n",
       "      <td>6.730821</td>\n",
       "      <td>3.09</td>\n",
       "      <td>40173.07217</td>\n",
       "    </tr>\n",
       "    <tr>\n",
       "      <th>2</th>\n",
       "      <td>80850.04183</td>\n",
       "      <td>6.635414</td>\n",
       "      <td>6.622450</td>\n",
       "      <td>2.10</td>\n",
       "      <td>41420.16082</td>\n",
       "    </tr>\n",
       "    <tr>\n",
       "      <th>3</th>\n",
       "      <td>68901.14428</td>\n",
       "      <td>5.295318</td>\n",
       "      <td>6.973878</td>\n",
       "      <td>2.01</td>\n",
       "      <td>30832.66831</td>\n",
       "    </tr>\n",
       "    <tr>\n",
       "      <th>4</th>\n",
       "      <td>50442.26643</td>\n",
       "      <td>4.767998</td>\n",
       "      <td>7.248288</td>\n",
       "      <td>6.07</td>\n",
       "      <td>33439.80668</td>\n",
       "    </tr>\n",
       "    <tr>\n",
       "      <th>...</th>\n",
       "      <td>...</td>\n",
       "      <td>...</td>\n",
       "      <td>...</td>\n",
       "      <td>...</td>\n",
       "      <td>...</td>\n",
       "    </tr>\n",
       "    <tr>\n",
       "      <th>179</th>\n",
       "      <td>60567.94414</td>\n",
       "      <td>7.830362</td>\n",
       "      <td>6.137356</td>\n",
       "      <td>3.46</td>\n",
       "      <td>22837.36103</td>\n",
       "    </tr>\n",
       "    <tr>\n",
       "      <th>180</th>\n",
       "      <td>78491.27543</td>\n",
       "      <td>6.999135</td>\n",
       "      <td>6.576763</td>\n",
       "      <td>4.02</td>\n",
       "      <td>25616.11549</td>\n",
       "    </tr>\n",
       "    <tr>\n",
       "      <th>181</th>\n",
       "      <td>63390.68689</td>\n",
       "      <td>7.250591</td>\n",
       "      <td>4.805081</td>\n",
       "      <td>2.13</td>\n",
       "      <td>33266.14549</td>\n",
       "    </tr>\n",
       "    <tr>\n",
       "      <th>182</th>\n",
       "      <td>68001.33124</td>\n",
       "      <td>5.534388</td>\n",
       "      <td>7.130144</td>\n",
       "      <td>5.44</td>\n",
       "      <td>42625.62016</td>\n",
       "    </tr>\n",
       "    <tr>\n",
       "      <th>183</th>\n",
       "      <td>65510.58180</td>\n",
       "      <td>5.992305</td>\n",
       "      <td>6.792336</td>\n",
       "      <td>4.07</td>\n",
       "      <td>46501.28380</td>\n",
       "    </tr>\n",
       "  </tbody>\n",
       "</table>\n",
       "<p>184 rows × 5 columns</p>\n",
       "</div>"
      ],
      "text/plain": [
       "     Avg. Area Income  Avg. Area House Age  Avg. Area Number of Rooms  \\\n",
       "0         79545.45857             5.682861                   7.009188   \n",
       "1         79248.64245             6.002900                   6.730821   \n",
       "2         80850.04183             6.635414                   6.622450   \n",
       "3         68901.14428             5.295318                   6.973878   \n",
       "4         50442.26643             4.767998                   7.248288   \n",
       "..                ...                  ...                        ...   \n",
       "179       60567.94414             7.830362                   6.137356   \n",
       "180       78491.27543             6.999135                   6.576763   \n",
       "181       63390.68689             7.250591                   4.805081   \n",
       "182       68001.33124             5.534388                   7.130144   \n",
       "183       65510.58180             5.992305                   6.792336   \n",
       "\n",
       "     Avg. Area Number of Bedrooms  Area Population  \n",
       "0                            4.09      23086.80050  \n",
       "1                            3.09      40173.07217  \n",
       "2                            2.10      41420.16082  \n",
       "3                            2.01      30832.66831  \n",
       "4                            6.07      33439.80668  \n",
       "..                            ...              ...  \n",
       "179                          3.46      22837.36103  \n",
       "180                          4.02      25616.11549  \n",
       "181                          2.13      33266.14549  \n",
       "182                          5.44      42625.62016  \n",
       "183                          4.07      46501.28380  \n",
       "\n",
       "[184 rows x 5 columns]"
      ]
     },
     "execution_count": 148,
     "metadata": {},
     "output_type": "execute_result"
    }
   ],
   "source": [
    "x"
   ]
  },
  {
   "cell_type": "code",
   "execution_count": 149,
   "id": "7f5cb121",
   "metadata": {},
   "outputs": [
    {
     "data": {
      "text/plain": [
       "0      1.059034e+06\n",
       "1      1.505891e+06\n",
       "2      1.501103e+06\n",
       "3      9.567640e+05\n",
       "4      6.441425e+05\n",
       "           ...     \n",
       "179    1.060194e+06\n",
       "180    1.482618e+06\n",
       "181    1.030730e+06\n",
       "182    1.198657e+06\n",
       "183    1.298950e+06\n",
       "Name: Price, Length: 184, dtype: float64"
      ]
     },
     "execution_count": 149,
     "metadata": {},
     "output_type": "execute_result"
    }
   ],
   "source": [
    "y"
   ]
  },
  {
   "cell_type": "code",
   "execution_count": 150,
   "id": "9b3f827c",
   "metadata": {},
   "outputs": [
    {
     "data": {
      "text/html": [
       "<div>\n",
       "<style scoped>\n",
       "    .dataframe tbody tr th:only-of-type {\n",
       "        vertical-align: middle;\n",
       "    }\n",
       "\n",
       "    .dataframe tbody tr th {\n",
       "        vertical-align: top;\n",
       "    }\n",
       "\n",
       "    .dataframe thead th {\n",
       "        text-align: right;\n",
       "    }\n",
       "</style>\n",
       "<table border=\"1\" class=\"dataframe\">\n",
       "  <thead>\n",
       "    <tr style=\"text-align: right;\">\n",
       "      <th></th>\n",
       "      <th>Avg. Area Income</th>\n",
       "      <th>Avg. Area House Age</th>\n",
       "      <th>Avg. Area Number of Rooms</th>\n",
       "      <th>Avg. Area Number of Bedrooms</th>\n",
       "      <th>Area Population</th>\n",
       "    </tr>\n",
       "  </thead>\n",
       "  <tbody>\n",
       "    <tr>\n",
       "      <th>7</th>\n",
       "      <td>62554.55457</td>\n",
       "      <td>5.553856</td>\n",
       "      <td>6.286928</td>\n",
       "      <td>4.36</td>\n",
       "      <td>39403.95992</td>\n",
       "    </tr>\n",
       "    <tr>\n",
       "      <th>26</th>\n",
       "      <td>65273.04487</td>\n",
       "      <td>6.107499</td>\n",
       "      <td>8.561687</td>\n",
       "      <td>6.10</td>\n",
       "      <td>40094.90402</td>\n",
       "    </tr>\n",
       "    <tr>\n",
       "      <th>75</th>\n",
       "      <td>78926.16508</td>\n",
       "      <td>5.163521</td>\n",
       "      <td>6.424496</td>\n",
       "      <td>2.43</td>\n",
       "      <td>34478.06592</td>\n",
       "    </tr>\n",
       "    <tr>\n",
       "      <th>183</th>\n",
       "      <td>65510.58180</td>\n",
       "      <td>5.992305</td>\n",
       "      <td>6.792336</td>\n",
       "      <td>4.07</td>\n",
       "      <td>46501.28380</td>\n",
       "    </tr>\n",
       "    <tr>\n",
       "      <th>52</th>\n",
       "      <td>53362.68629</td>\n",
       "      <td>7.535711</td>\n",
       "      <td>7.560199</td>\n",
       "      <td>3.15</td>\n",
       "      <td>50304.74831</td>\n",
       "    </tr>\n",
       "    <tr>\n",
       "      <th>...</th>\n",
       "      <td>...</td>\n",
       "      <td>...</td>\n",
       "      <td>...</td>\n",
       "      <td>...</td>\n",
       "      <td>...</td>\n",
       "    </tr>\n",
       "    <tr>\n",
       "      <th>113</th>\n",
       "      <td>81137.46297</td>\n",
       "      <td>7.726796</td>\n",
       "      <td>6.791657</td>\n",
       "      <td>3.21</td>\n",
       "      <td>34493.74717</td>\n",
       "    </tr>\n",
       "    <tr>\n",
       "      <th>64</th>\n",
       "      <td>66169.90518</td>\n",
       "      <td>6.910734</td>\n",
       "      <td>6.467065</td>\n",
       "      <td>2.06</td>\n",
       "      <td>25362.12063</td>\n",
       "    </tr>\n",
       "    <tr>\n",
       "      <th>15</th>\n",
       "      <td>68186.03169</td>\n",
       "      <td>6.889046</td>\n",
       "      <td>8.432093</td>\n",
       "      <td>3.17</td>\n",
       "      <td>33350.48026</td>\n",
       "    </tr>\n",
       "    <tr>\n",
       "      <th>125</th>\n",
       "      <td>62968.65071</td>\n",
       "      <td>5.293690</td>\n",
       "      <td>5.457162</td>\n",
       "      <td>3.25</td>\n",
       "      <td>24554.56252</td>\n",
       "    </tr>\n",
       "    <tr>\n",
       "      <th>9</th>\n",
       "      <td>69639.14090</td>\n",
       "      <td>4.514922</td>\n",
       "      <td>7.454465</td>\n",
       "      <td>5.10</td>\n",
       "      <td>39950.29527</td>\n",
       "    </tr>\n",
       "  </tbody>\n",
       "</table>\n",
       "<p>147 rows × 5 columns</p>\n",
       "</div>"
      ],
      "text/plain": [
       "     Avg. Area Income  Avg. Area House Age  Avg. Area Number of Rooms  \\\n",
       "7         62554.55457             5.553856                   6.286928   \n",
       "26        65273.04487             6.107499                   8.561687   \n",
       "75        78926.16508             5.163521                   6.424496   \n",
       "183       65510.58180             5.992305                   6.792336   \n",
       "52        53362.68629             7.535711                   7.560199   \n",
       "..                ...                  ...                        ...   \n",
       "113       81137.46297             7.726796                   6.791657   \n",
       "64        66169.90518             6.910734                   6.467065   \n",
       "15        68186.03169             6.889046                   8.432093   \n",
       "125       62968.65071             5.293690                   5.457162   \n",
       "9         69639.14090             4.514922                   7.454465   \n",
       "\n",
       "     Avg. Area Number of Bedrooms  Area Population  \n",
       "7                            4.36      39403.95992  \n",
       "26                           6.10      40094.90402  \n",
       "75                           2.43      34478.06592  \n",
       "183                          4.07      46501.28380  \n",
       "52                           3.15      50304.74831  \n",
       "..                            ...              ...  \n",
       "113                          3.21      34493.74717  \n",
       "64                           2.06      25362.12063  \n",
       "15                           3.17      33350.48026  \n",
       "125                          3.25      24554.56252  \n",
       "9                            5.10      39950.29527  \n",
       "\n",
       "[147 rows x 5 columns]"
      ]
     },
     "execution_count": 150,
     "metadata": {},
     "output_type": "execute_result"
    }
   ],
   "source": [
    "x_train, x_test, y_train, y_test = train_test_split(x,y, test_size=0.2, random_state=10)\n",
    "x_train"
   ]
  },
  {
   "cell_type": "code",
   "execution_count": 151,
   "id": "01f862f2",
   "metadata": {},
   "outputs": [
    {
     "data": {
      "text/plain": [
       "7      9.239716e+05\n",
       "26     1.431407e+06\n",
       "75     1.151212e+06\n",
       "183    1.298950e+06\n",
       "52     1.245216e+06\n",
       "           ...     \n",
       "113    1.659171e+06\n",
       "64     1.120439e+06\n",
       "15     1.460364e+06\n",
       "125    5.568396e+05\n",
       "9      1.309939e+06\n",
       "Name: Price, Length: 147, dtype: float64"
      ]
     },
     "execution_count": 151,
     "metadata": {},
     "output_type": "execute_result"
    }
   ],
   "source": [
    "y_train"
   ]
  },
  {
   "cell_type": "code",
   "execution_count": 152,
   "id": "f4e4ac24",
   "metadata": {},
   "outputs": [
    {
     "data": {
      "text/html": [
       "<div>\n",
       "<style scoped>\n",
       "    .dataframe tbody tr th:only-of-type {\n",
       "        vertical-align: middle;\n",
       "    }\n",
       "\n",
       "    .dataframe tbody tr th {\n",
       "        vertical-align: top;\n",
       "    }\n",
       "\n",
       "    .dataframe thead th {\n",
       "        text-align: right;\n",
       "    }\n",
       "</style>\n",
       "<table border=\"1\" class=\"dataframe\">\n",
       "  <thead>\n",
       "    <tr style=\"text-align: right;\">\n",
       "      <th></th>\n",
       "      <th>Avg. Area Income</th>\n",
       "      <th>Avg. Area House Age</th>\n",
       "      <th>Avg. Area Number of Rooms</th>\n",
       "      <th>Avg. Area Number of Bedrooms</th>\n",
       "      <th>Area Population</th>\n",
       "    </tr>\n",
       "  </thead>\n",
       "  <tbody>\n",
       "    <tr>\n",
       "      <th>61</th>\n",
       "      <td>75437.52345</td>\n",
       "      <td>5.017667</td>\n",
       "      <td>4.683750</td>\n",
       "      <td>2.10</td>\n",
       "      <td>31432.72954</td>\n",
       "    </tr>\n",
       "    <tr>\n",
       "      <th>114</th>\n",
       "      <td>73340.58109</td>\n",
       "      <td>3.596319</td>\n",
       "      <td>6.262380</td>\n",
       "      <td>3.31</td>\n",
       "      <td>36956.97522</td>\n",
       "    </tr>\n",
       "    <tr>\n",
       "      <th>127</th>\n",
       "      <td>76563.97504</td>\n",
       "      <td>7.205100</td>\n",
       "      <td>6.504769</td>\n",
       "      <td>3.39</td>\n",
       "      <td>14415.78920</td>\n",
       "    </tr>\n",
       "    <tr>\n",
       "      <th>101</th>\n",
       "      <td>69089.87334</td>\n",
       "      <td>5.468557</td>\n",
       "      <td>6.628832</td>\n",
       "      <td>3.27</td>\n",
       "      <td>30622.35883</td>\n",
       "    </tr>\n",
       "    <tr>\n",
       "      <th>182</th>\n",
       "      <td>68001.33124</td>\n",
       "      <td>5.534388</td>\n",
       "      <td>7.130144</td>\n",
       "      <td>5.44</td>\n",
       "      <td>42625.62016</td>\n",
       "    </tr>\n",
       "    <tr>\n",
       "      <th>63</th>\n",
       "      <td>55766.09960</td>\n",
       "      <td>6.012358</td>\n",
       "      <td>6.765692</td>\n",
       "      <td>3.21</td>\n",
       "      <td>45764.00499</td>\n",
       "    </tr>\n",
       "    <tr>\n",
       "      <th>10</th>\n",
       "      <td>79874.73935</td>\n",
       "      <td>4.936371</td>\n",
       "      <td>7.146377</td>\n",
       "      <td>4.14</td>\n",
       "      <td>30410.23296</td>\n",
       "    </tr>\n",
       "    <tr>\n",
       "      <th>91</th>\n",
       "      <td>69639.14090</td>\n",
       "      <td>6.432300</td>\n",
       "      <td>7.242866</td>\n",
       "      <td>6.38</td>\n",
       "      <td>39182.48551</td>\n",
       "    </tr>\n",
       "    <tr>\n",
       "      <th>2</th>\n",
       "      <td>80850.04183</td>\n",
       "      <td>6.635414</td>\n",
       "      <td>6.622450</td>\n",
       "      <td>2.10</td>\n",
       "      <td>41420.16082</td>\n",
       "    </tr>\n",
       "    <tr>\n",
       "      <th>55</th>\n",
       "      <td>75263.11564</td>\n",
       "      <td>3.607405</td>\n",
       "      <td>7.960458</td>\n",
       "      <td>5.36</td>\n",
       "      <td>30888.75048</td>\n",
       "    </tr>\n",
       "    <tr>\n",
       "      <th>119</th>\n",
       "      <td>60041.20701</td>\n",
       "      <td>3.989951</td>\n",
       "      <td>7.407572</td>\n",
       "      <td>3.06</td>\n",
       "      <td>50637.87411</td>\n",
       "    </tr>\n",
       "    <tr>\n",
       "      <th>175</th>\n",
       "      <td>74102.19189</td>\n",
       "      <td>5.657841</td>\n",
       "      <td>7.683993</td>\n",
       "      <td>3.13</td>\n",
       "      <td>24041.27059</td>\n",
       "    </tr>\n",
       "    <tr>\n",
       "      <th>46</th>\n",
       "      <td>79007.54811</td>\n",
       "      <td>6.605518</td>\n",
       "      <td>7.681934</td>\n",
       "      <td>5.11</td>\n",
       "      <td>23460.73326</td>\n",
       "    </tr>\n",
       "    <tr>\n",
       "      <th>138</th>\n",
       "      <td>46819.68266</td>\n",
       "      <td>5.502965</td>\n",
       "      <td>7.565891</td>\n",
       "      <td>6.33</td>\n",
       "      <td>48952.12525</td>\n",
       "    </tr>\n",
       "    <tr>\n",
       "      <th>81</th>\n",
       "      <td>71045.19192</td>\n",
       "      <td>6.041494</td>\n",
       "      <td>6.182283</td>\n",
       "      <td>4.46</td>\n",
       "      <td>30143.96876</td>\n",
       "    </tr>\n",
       "    <tr>\n",
       "      <th>19</th>\n",
       "      <td>70614.71712</td>\n",
       "      <td>6.210087</td>\n",
       "      <td>5.470123</td>\n",
       "      <td>4.45</td>\n",
       "      <td>39449.98775</td>\n",
       "    </tr>\n",
       "    <tr>\n",
       "      <th>90</th>\n",
       "      <td>65579.37802</td>\n",
       "      <td>5.952557</td>\n",
       "      <td>5.828072</td>\n",
       "      <td>2.33</td>\n",
       "      <td>41260.29962</td>\n",
       "    </tr>\n",
       "    <tr>\n",
       "      <th>70</th>\n",
       "      <td>61449.43132</td>\n",
       "      <td>4.899966</td>\n",
       "      <td>7.025530</td>\n",
       "      <td>5.26</td>\n",
       "      <td>42419.86559</td>\n",
       "    </tr>\n",
       "    <tr>\n",
       "      <th>20</th>\n",
       "      <td>71208.26930</td>\n",
       "      <td>5.300326</td>\n",
       "      <td>6.077989</td>\n",
       "      <td>4.01</td>\n",
       "      <td>25696.36174</td>\n",
       "    </tr>\n",
       "    <tr>\n",
       "      <th>128</th>\n",
       "      <td>64938.75249</td>\n",
       "      <td>5.089792</td>\n",
       "      <td>7.162307</td>\n",
       "      <td>6.13</td>\n",
       "      <td>34736.08024</td>\n",
       "    </tr>\n",
       "    <tr>\n",
       "      <th>67</th>\n",
       "      <td>83357.44997</td>\n",
       "      <td>6.073122</td>\n",
       "      <td>6.229591</td>\n",
       "      <td>3.05</td>\n",
       "      <td>28688.31025</td>\n",
       "    </tr>\n",
       "    <tr>\n",
       "      <th>39</th>\n",
       "      <td>35797.32312</td>\n",
       "      <td>5.544221</td>\n",
       "      <td>7.795138</td>\n",
       "      <td>5.00</td>\n",
       "      <td>24844.20019</td>\n",
       "    </tr>\n",
       "    <tr>\n",
       "      <th>154</th>\n",
       "      <td>55980.20481</td>\n",
       "      <td>7.014510</td>\n",
       "      <td>5.458789</td>\n",
       "      <td>2.11</td>\n",
       "      <td>43968.68705</td>\n",
       "    </tr>\n",
       "    <tr>\n",
       "      <th>1</th>\n",
       "      <td>79248.64245</td>\n",
       "      <td>6.002900</td>\n",
       "      <td>6.730821</td>\n",
       "      <td>3.09</td>\n",
       "      <td>40173.07217</td>\n",
       "    </tr>\n",
       "    <tr>\n",
       "      <th>159</th>\n",
       "      <td>54037.58088</td>\n",
       "      <td>8.471765</td>\n",
       "      <td>6.966072</td>\n",
       "      <td>3.27</td>\n",
       "      <td>28696.17086</td>\n",
       "    </tr>\n",
       "    <tr>\n",
       "      <th>60</th>\n",
       "      <td>48537.08397</td>\n",
       "      <td>6.802427</td>\n",
       "      <td>6.740965</td>\n",
       "      <td>3.22</td>\n",
       "      <td>18691.31046</td>\n",
       "    </tr>\n",
       "    <tr>\n",
       "      <th>35</th>\n",
       "      <td>55899.51630</td>\n",
       "      <td>5.220085</td>\n",
       "      <td>5.164152</td>\n",
       "      <td>2.01</td>\n",
       "      <td>43063.50372</td>\n",
       "    </tr>\n",
       "    <tr>\n",
       "      <th>72</th>\n",
       "      <td>68789.32901</td>\n",
       "      <td>5.851196</td>\n",
       "      <td>8.258215</td>\n",
       "      <td>3.50</td>\n",
       "      <td>41491.22028</td>\n",
       "    </tr>\n",
       "    <tr>\n",
       "      <th>112</th>\n",
       "      <td>55250.11036</td>\n",
       "      <td>5.560996</td>\n",
       "      <td>6.105254</td>\n",
       "      <td>4.12</td>\n",
       "      <td>22912.06692</td>\n",
       "    </tr>\n",
       "    <tr>\n",
       "      <th>102</th>\n",
       "      <td>64909.04115</td>\n",
       "      <td>6.636131</td>\n",
       "      <td>9.054827</td>\n",
       "      <td>5.10</td>\n",
       "      <td>42180.64794</td>\n",
       "    </tr>\n",
       "    <tr>\n",
       "      <th>83</th>\n",
       "      <td>62491.55833</td>\n",
       "      <td>7.201999</td>\n",
       "      <td>8.345120</td>\n",
       "      <td>5.40</td>\n",
       "      <td>24677.90116</td>\n",
       "    </tr>\n",
       "    <tr>\n",
       "      <th>68</th>\n",
       "      <td>64204.72064</td>\n",
       "      <td>4.862155</td>\n",
       "      <td>7.714891</td>\n",
       "      <td>6.21</td>\n",
       "      <td>46157.43916</td>\n",
       "    </tr>\n",
       "    <tr>\n",
       "      <th>95</th>\n",
       "      <td>75342.97535</td>\n",
       "      <td>5.986603</td>\n",
       "      <td>7.279935</td>\n",
       "      <td>6.37</td>\n",
       "      <td>42151.26886</td>\n",
       "    </tr>\n",
       "    <tr>\n",
       "      <th>131</th>\n",
       "      <td>58566.39972</td>\n",
       "      <td>5.595077</td>\n",
       "      <td>8.140275</td>\n",
       "      <td>5.10</td>\n",
       "      <td>53152.34947</td>\n",
       "    </tr>\n",
       "    <tr>\n",
       "      <th>144</th>\n",
       "      <td>71441.38889</td>\n",
       "      <td>7.085075</td>\n",
       "      <td>7.790208</td>\n",
       "      <td>5.21</td>\n",
       "      <td>40167.01253</td>\n",
       "    </tr>\n",
       "    <tr>\n",
       "      <th>47</th>\n",
       "      <td>69465.30978</td>\n",
       "      <td>6.062056</td>\n",
       "      <td>8.747066</td>\n",
       "      <td>5.46</td>\n",
       "      <td>43677.39159</td>\n",
       "    </tr>\n",
       "    <tr>\n",
       "      <th>174</th>\n",
       "      <td>52723.87656</td>\n",
       "      <td>5.452237</td>\n",
       "      <td>8.124571</td>\n",
       "      <td>6.39</td>\n",
       "      <td>14802.08844</td>\n",
       "    </tr>\n",
       "  </tbody>\n",
       "</table>\n",
       "</div>"
      ],
      "text/plain": [
       "     Avg. Area Income  Avg. Area House Age  Avg. Area Number of Rooms  \\\n",
       "61        75437.52345             5.017667                   4.683750   \n",
       "114       73340.58109             3.596319                   6.262380   \n",
       "127       76563.97504             7.205100                   6.504769   \n",
       "101       69089.87334             5.468557                   6.628832   \n",
       "182       68001.33124             5.534388                   7.130144   \n",
       "63        55766.09960             6.012358                   6.765692   \n",
       "10        79874.73935             4.936371                   7.146377   \n",
       "91        69639.14090             6.432300                   7.242866   \n",
       "2         80850.04183             6.635414                   6.622450   \n",
       "55        75263.11564             3.607405                   7.960458   \n",
       "119       60041.20701             3.989951                   7.407572   \n",
       "175       74102.19189             5.657841                   7.683993   \n",
       "46        79007.54811             6.605518                   7.681934   \n",
       "138       46819.68266             5.502965                   7.565891   \n",
       "81        71045.19192             6.041494                   6.182283   \n",
       "19        70614.71712             6.210087                   5.470123   \n",
       "90        65579.37802             5.952557                   5.828072   \n",
       "70        61449.43132             4.899966                   7.025530   \n",
       "20        71208.26930             5.300326                   6.077989   \n",
       "128       64938.75249             5.089792                   7.162307   \n",
       "67        83357.44997             6.073122                   6.229591   \n",
       "39        35797.32312             5.544221                   7.795138   \n",
       "154       55980.20481             7.014510                   5.458789   \n",
       "1         79248.64245             6.002900                   6.730821   \n",
       "159       54037.58088             8.471765                   6.966072   \n",
       "60        48537.08397             6.802427                   6.740965   \n",
       "35        55899.51630             5.220085                   5.164152   \n",
       "72        68789.32901             5.851196                   8.258215   \n",
       "112       55250.11036             5.560996                   6.105254   \n",
       "102       64909.04115             6.636131                   9.054827   \n",
       "83        62491.55833             7.201999                   8.345120   \n",
       "68        64204.72064             4.862155                   7.714891   \n",
       "95        75342.97535             5.986603                   7.279935   \n",
       "131       58566.39972             5.595077                   8.140275   \n",
       "144       71441.38889             7.085075                   7.790208   \n",
       "47        69465.30978             6.062056                   8.747066   \n",
       "174       52723.87656             5.452237                   8.124571   \n",
       "\n",
       "     Avg. Area Number of Bedrooms  Area Population  \n",
       "61                           2.10      31432.72954  \n",
       "114                          3.31      36956.97522  \n",
       "127                          3.39      14415.78920  \n",
       "101                          3.27      30622.35883  \n",
       "182                          5.44      42625.62016  \n",
       "63                           3.21      45764.00499  \n",
       "10                           4.14      30410.23296  \n",
       "91                           6.38      39182.48551  \n",
       "2                            2.10      41420.16082  \n",
       "55                           5.36      30888.75048  \n",
       "119                          3.06      50637.87411  \n",
       "175                          3.13      24041.27059  \n",
       "46                           5.11      23460.73326  \n",
       "138                          6.33      48952.12525  \n",
       "81                           4.46      30143.96876  \n",
       "19                           4.45      39449.98775  \n",
       "90                           2.33      41260.29962  \n",
       "70                           5.26      42419.86559  \n",
       "20                           4.01      25696.36174  \n",
       "128                          6.13      34736.08024  \n",
       "67                           3.05      28688.31025  \n",
       "39                           5.00      24844.20019  \n",
       "154                          2.11      43968.68705  \n",
       "1                            3.09      40173.07217  \n",
       "159                          3.27      28696.17086  \n",
       "60                           3.22      18691.31046  \n",
       "35                           2.01      43063.50372  \n",
       "72                           3.50      41491.22028  \n",
       "112                          4.12      22912.06692  \n",
       "102                          5.10      42180.64794  \n",
       "83                           5.40      24677.90116  \n",
       "68                           6.21      46157.43916  \n",
       "95                           6.37      42151.26886  \n",
       "131                          5.10      53152.34947  \n",
       "144                          5.21      40167.01253  \n",
       "47                           5.46      43677.39159  \n",
       "174                          6.39      14802.08844  "
      ]
     },
     "execution_count": 152,
     "metadata": {},
     "output_type": "execute_result"
    }
   ],
   "source": [
    "x_test"
   ]
  },
  {
   "cell_type": "code",
   "execution_count": 153,
   "id": "a972e41d",
   "metadata": {},
   "outputs": [
    {
     "data": {
      "text/plain": [
       "61     8.775668e+05\n",
       "114    1.039333e+06\n",
       "127    1.137060e+06\n",
       "101    1.020536e+06\n",
       "182    1.198657e+06\n",
       "63     1.113648e+06\n",
       "10     1.196997e+06\n",
       "91     1.280276e+06\n",
       "2      1.501103e+06\n",
       "55     1.185161e+06\n",
       "119    6.976566e+05\n",
       "175    1.263721e+06\n",
       "46     1.412777e+06\n",
       "138    9.173511e+05\n",
       "81     1.169265e+06\n",
       "19     1.113313e+06\n",
       "90     1.063131e+06\n",
       "70     1.063183e+06\n",
       "20     9.207479e+05\n",
       "128    1.058611e+06\n",
       "67     1.168823e+06\n",
       "39     2.998630e+05\n",
       "154    1.120943e+06\n",
       "1      1.505891e+06\n",
       "159    1.324382e+06\n",
       "60     5.812001e+05\n",
       "35     7.384115e+05\n",
       "72     1.555185e+06\n",
       "112    5.830168e+05\n",
       "102    1.577850e+06\n",
       "83     1.295918e+06\n",
       "68     1.233484e+06\n",
       "95     1.540998e+06\n",
       "131    1.375951e+06\n",
       "144    1.475734e+06\n",
       "47     1.621700e+06\n",
       "174    4.795006e+05\n",
       "Name: Price, dtype: float64"
      ]
     },
     "execution_count": 153,
     "metadata": {},
     "output_type": "execute_result"
    }
   ],
   "source": [
    "y_test"
   ]
  },
  {
   "cell_type": "markdown",
   "id": "8506ac59",
   "metadata": {},
   "source": [
    "#### Instantiating Linear Regression Model"
   ]
  },
  {
   "cell_type": "code",
   "execution_count": 154,
   "id": "a0b5e86c",
   "metadata": {},
   "outputs": [
    {
     "name": "stderr",
     "output_type": "stream",
     "text": [
      "2022/12/06 19:52:53 WARNING mlflow.utils.autologging_utils: Encountered unexpected error during sklearn autologging: 'F:\\Velocity_Aug_22\\Class\\Dec_22\\PR_FASK\\USA_Housing_PRICE\\mlruns' does not exist.\n"
     ]
    },
    {
     "data": {
      "text/plain": [
       "LinearRegression()"
      ]
     },
     "execution_count": 154,
     "metadata": {},
     "output_type": "execute_result"
    }
   ],
   "source": [
    "linear_reg = LinearRegression()\n",
    "linear_reg.fit(x_train, y_train)"
   ]
  },
  {
   "cell_type": "code",
   "execution_count": 155,
   "id": "078934ac",
   "metadata": {},
   "outputs": [
    {
     "data": {
      "text/plain": [
       "array([2.14736956e+01, 1.65617144e+05, 1.18614540e+05, 1.28102369e+04,\n",
       "       1.39201858e+01])"
      ]
     },
     "execution_count": 155,
     "metadata": {},
     "output_type": "execute_result"
    }
   ],
   "source": [
    "linear_reg.coef_"
   ]
  },
  {
   "cell_type": "code",
   "execution_count": 156,
   "id": "d4f26f5f",
   "metadata": {},
   "outputs": [
    {
     "data": {
      "text/plain": [
       "-2628900.237487497"
      ]
     },
     "execution_count": 156,
     "metadata": {},
     "output_type": "execute_result"
    }
   ],
   "source": [
    "linear_reg.intercept_"
   ]
  },
  {
   "cell_type": "markdown",
   "id": "1489dd9f",
   "metadata": {},
   "source": [
    "### 6. Evaluation"
   ]
  },
  {
   "cell_type": "code",
   "execution_count": 157,
   "id": "3a175f44",
   "metadata": {},
   "outputs": [
    {
     "name": "stdout",
     "output_type": "stream",
     "text": [
      "MSE :  12367085774.11636\n",
      "RMSE :  111207.39981726198\n",
      "MAE :  84754.39345895096\n",
      "R2 squared :  0.8759550953261732\n"
     ]
    }
   ],
   "source": [
    "# for Training data\n",
    "y_pred_train = linear_reg.predict(x_train)\n",
    "\n",
    "mse = mean_squared_error(y_train, y_pred_train)\n",
    "print(\"MSE : \",mse)\n",
    "\n",
    "rmse = np.sqrt(mse)\n",
    "print(\"RMSE : \",rmse)\n",
    "\n",
    "mae = mean_absolute_error(y_train, y_pred_train)\n",
    "print(\"MAE : \",mae)\n",
    "\n",
    "r2 = r2_score(y_train, y_pred_train)\n",
    "print(\"R2 squared : \",r2)"
   ]
  },
  {
   "cell_type": "code",
   "execution_count": 158,
   "id": "9da764b9",
   "metadata": {},
   "outputs": [
    {
     "name": "stdout",
     "output_type": "stream",
     "text": [
      "R2 squared :  0.8759550953261732\n"
     ]
    }
   ],
   "source": [
    "r2_squred = linear_reg.score(x_train, y_train)\n",
    "print(\"R2 squared : \",r2_squred)"
   ]
  },
  {
   "cell_type": "code",
   "execution_count": 159,
   "id": "da722d9c",
   "metadata": {},
   "outputs": [
    {
     "name": "stdout",
     "output_type": "stream",
     "text": [
      "MSE :  9409532376.57215\n",
      "RMSE :  97002.74417031794\n",
      "MAE :  76735.8185983592\n",
      "R2 squared :  0.9059833319018009\n"
     ]
    }
   ],
   "source": [
    "# for Testing data\n",
    "y_pred_test = linear_reg.predict(x_test)\n",
    "\n",
    "mse = mean_squared_error(y_test, y_pred_test)\n",
    "print(\"MSE : \",mse)\n",
    "\n",
    "rmse = np.sqrt(mse)\n",
    "print(\"RMSE : \",rmse)\n",
    "\n",
    "mae = mean_absolute_error(y_test, y_pred_test)\n",
    "print(\"MAE : \",mae)\n",
    "\n",
    "r2 = r2_score(y_test, y_pred_test)\n",
    "print(\"R2 squared : \",r2)"
   ]
  },
  {
   "cell_type": "code",
   "execution_count": 160,
   "id": "23a01679",
   "metadata": {},
   "outputs": [
    {
     "name": "stdout",
     "output_type": "stream",
     "text": [
      "R2 squared :  0.9059833319018009\n"
     ]
    }
   ],
   "source": [
    "r2_squred = linear_reg.score(x_test, y_test)\n",
    "print(\"R2 squared : \",r2_squred)"
   ]
  },
  {
   "cell_type": "code",
   "execution_count": 161,
   "id": "3beabb6f",
   "metadata": {},
   "outputs": [
    {
     "data": {
      "text/plain": [
       "Avg. Area Income                0.638265\n",
       "Avg. Area House Age             0.456015\n",
       "Avg. Area Number of Rooms       0.257223\n",
       "Avg. Area Number of Bedrooms    0.077143\n",
       "Area Population                 0.313425\n",
       "Price                           1.000000\n",
       "Name: Price, dtype: float64"
      ]
     },
     "execution_count": 161,
     "metadata": {},
     "output_type": "execute_result"
    }
   ],
   "source": [
    "correlation.T[\"Price\"]"
   ]
  },
  {
   "cell_type": "code",
   "execution_count": 162,
   "id": "389db5f0",
   "metadata": {},
   "outputs": [
    {
     "name": "stderr",
     "output_type": "stream",
     "text": [
      "2022/12/06 19:53:09 WARNING mlflow.utils.autologging_utils: Encountered unexpected error during sklearn autologging: 'F:\\Velocity_Aug_22\\Class\\Dec_22\\PR_FASK\\USA_Housing_PRICE\\mlruns' does not exist.\n",
      "2022/12/06 19:53:09 WARNING mlflow.utils.autologging_utils: Encountered unexpected error during sklearn autologging: 'F:\\Velocity_Aug_22\\Class\\Dec_22\\PR_FASK\\USA_Housing_PRICE\\mlruns' does not exist.\n",
      "2022/12/06 19:53:09 WARNING mlflow.utils.autologging_utils: Encountered unexpected error during sklearn autologging: 'F:\\Velocity_Aug_22\\Class\\Dec_22\\PR_FASK\\USA_Housing_PRICE\\mlruns' does not exist.\n",
      "2022/12/06 19:53:09 WARNING mlflow.utils.autologging_utils: Encountered unexpected error during sklearn autologging: 'F:\\Velocity_Aug_22\\Class\\Dec_22\\PR_FASK\\USA_Housing_PRICE\\mlruns' does not exist.\n",
      "2022/12/06 19:53:09 WARNING mlflow.utils.autologging_utils: Encountered unexpected error during sklearn autologging: 'F:\\Velocity_Aug_22\\Class\\Dec_22\\PR_FASK\\USA_Housing_PRICE\\mlruns' does not exist.\n"
     ]
    },
    {
     "data": {
      "text/html": [
       "<div>\n",
       "<style scoped>\n",
       "    .dataframe tbody tr th:only-of-type {\n",
       "        vertical-align: middle;\n",
       "    }\n",
       "\n",
       "    .dataframe tbody tr th {\n",
       "        vertical-align: top;\n",
       "    }\n",
       "\n",
       "    .dataframe thead th {\n",
       "        text-align: right;\n",
       "    }\n",
       "</style>\n",
       "<table border=\"1\" class=\"dataframe\">\n",
       "  <thead>\n",
       "    <tr style=\"text-align: right;\">\n",
       "      <th></th>\n",
       "      <th>correlation</th>\n",
       "      <th>R2 Values</th>\n",
       "      <th>Adjusted R2</th>\n",
       "    </tr>\n",
       "  </thead>\n",
       "  <tbody>\n",
       "    <tr>\n",
       "      <th>Avg. Area Income</th>\n",
       "      <td>0.638265</td>\n",
       "      <td>0.399015</td>\n",
       "      <td>0.394870</td>\n",
       "    </tr>\n",
       "    <tr>\n",
       "      <th>Avg. Area House Age</th>\n",
       "      <td>0.456015</td>\n",
       "      <td>0.552961</td>\n",
       "      <td>0.546752</td>\n",
       "    </tr>\n",
       "    <tr>\n",
       "      <th>Avg. Area Number of Rooms</th>\n",
       "      <td>0.257223</td>\n",
       "      <td>0.713670</td>\n",
       "      <td>0.707663</td>\n",
       "    </tr>\n",
       "    <tr>\n",
       "      <th>Avg. Area Number of Bedrooms</th>\n",
       "      <td>0.077143</td>\n",
       "      <td>0.714500</td>\n",
       "      <td>0.706458</td>\n",
       "    </tr>\n",
       "    <tr>\n",
       "      <th>Area Population</th>\n",
       "      <td>0.313425</td>\n",
       "      <td>0.875955</td>\n",
       "      <td>0.871556</td>\n",
       "    </tr>\n",
       "  </tbody>\n",
       "</table>\n",
       "</div>"
      ],
      "text/plain": [
       "                              correlation  R2 Values  Adjusted R2\n",
       "Avg. Area Income                 0.638265   0.399015     0.394870\n",
       "Avg. Area House Age              0.456015   0.552961     0.546752\n",
       "Avg. Area Number of Rooms        0.257223   0.713670     0.707663\n",
       "Avg. Area Number of Bedrooms     0.077143   0.714500     0.706458\n",
       "Area Population                  0.313425   0.875955     0.871556"
      ]
     },
     "execution_count": 162,
     "metadata": {},
     "output_type": "execute_result"
    }
   ],
   "source": [
    "# for training data\n",
    "r2_values_list = []\n",
    "adj_r2_list = []\n",
    "for i in range(1, x_train.shape[1]+1):\n",
    "    linear_reg = LinearRegression()\n",
    "    linear_reg.fit(x_train.iloc[:,:i], y_train)\n",
    "    \n",
    "    r2 = linear_reg.score(x_train.iloc[:,:i], y_train)\n",
    "    r2_values_list.append(r2)\n",
    "    \n",
    "    adj_r2 = 1-(((1-r2)*(x_train.shape[0]-1))/(x_train.shape[0]-x_train.iloc[:,:i].shape[1]-1))\n",
    "    adj_r2_list.append(adj_r2)\n",
    "    \n",
    "r2_df = pd.DataFrame({'correlation' : correlation.T[\"Price\"],\n",
    "                       'R2 Values' : r2_values_list,\n",
    "                       'Adjusted R2' : adj_r2_list}, index = x_train.columns)\n",
    "r2_df"
   ]
  },
  {
   "cell_type": "code",
   "execution_count": 163,
   "id": "37e1fc3d",
   "metadata": {
    "scrolled": false
   },
   "outputs": [
    {
     "name": "stderr",
     "output_type": "stream",
     "text": [
      "2022/12/06 19:53:23 WARNING mlflow.utils.autologging_utils: Encountered unexpected error during sklearn autologging: 'F:\\Velocity_Aug_22\\Class\\Dec_22\\PR_FASK\\USA_Housing_PRICE\\mlruns' does not exist.\n",
      "2022/12/06 19:53:23 WARNING mlflow.utils.autologging_utils: Encountered unexpected error during sklearn autologging: 'F:\\Velocity_Aug_22\\Class\\Dec_22\\PR_FASK\\USA_Housing_PRICE\\mlruns' does not exist.\n",
      "2022/12/06 19:53:23 WARNING mlflow.utils.autologging_utils: Encountered unexpected error during sklearn autologging: 'F:\\Velocity_Aug_22\\Class\\Dec_22\\PR_FASK\\USA_Housing_PRICE\\mlruns' does not exist.\n",
      "2022/12/06 19:53:23 WARNING mlflow.utils.autologging_utils: Encountered unexpected error during sklearn autologging: 'F:\\Velocity_Aug_22\\Class\\Dec_22\\PR_FASK\\USA_Housing_PRICE\\mlruns' does not exist.\n",
      "2022/12/06 19:53:23 WARNING mlflow.utils.autologging_utils: Encountered unexpected error during sklearn autologging: 'F:\\Velocity_Aug_22\\Class\\Dec_22\\PR_FASK\\USA_Housing_PRICE\\mlruns' does not exist.\n"
     ]
    },
    {
     "data": {
      "text/html": [
       "<div>\n",
       "<style scoped>\n",
       "    .dataframe tbody tr th:only-of-type {\n",
       "        vertical-align: middle;\n",
       "    }\n",
       "\n",
       "    .dataframe tbody tr th {\n",
       "        vertical-align: top;\n",
       "    }\n",
       "\n",
       "    .dataframe thead th {\n",
       "        text-align: right;\n",
       "    }\n",
       "</style>\n",
       "<table border=\"1\" class=\"dataframe\">\n",
       "  <thead>\n",
       "    <tr style=\"text-align: right;\">\n",
       "      <th></th>\n",
       "      <th>correlation</th>\n",
       "      <th>R2 Values</th>\n",
       "      <th>Adjusted R2</th>\n",
       "    </tr>\n",
       "  </thead>\n",
       "  <tbody>\n",
       "    <tr>\n",
       "      <th>Avg. Area Income</th>\n",
       "      <td>0.638265</td>\n",
       "      <td>0.389277</td>\n",
       "      <td>0.371828</td>\n",
       "    </tr>\n",
       "    <tr>\n",
       "      <th>Avg. Area House Age</th>\n",
       "      <td>0.456015</td>\n",
       "      <td>0.532846</td>\n",
       "      <td>0.505367</td>\n",
       "    </tr>\n",
       "    <tr>\n",
       "      <th>Avg. Area Number of Rooms</th>\n",
       "      <td>0.257223</td>\n",
       "      <td>0.700043</td>\n",
       "      <td>0.672774</td>\n",
       "    </tr>\n",
       "    <tr>\n",
       "      <th>Avg. Area Number of Bedrooms</th>\n",
       "      <td>0.077143</td>\n",
       "      <td>0.700444</td>\n",
       "      <td>0.662999</td>\n",
       "    </tr>\n",
       "    <tr>\n",
       "      <th>Area Population</th>\n",
       "      <td>0.313425</td>\n",
       "      <td>0.912969</td>\n",
       "      <td>0.898931</td>\n",
       "    </tr>\n",
       "  </tbody>\n",
       "</table>\n",
       "</div>"
      ],
      "text/plain": [
       "                              correlation  R2 Values  Adjusted R2\n",
       "Avg. Area Income                 0.638265   0.389277     0.371828\n",
       "Avg. Area House Age              0.456015   0.532846     0.505367\n",
       "Avg. Area Number of Rooms        0.257223   0.700043     0.672774\n",
       "Avg. Area Number of Bedrooms     0.077143   0.700444     0.662999\n",
       "Area Population                  0.313425   0.912969     0.898931"
      ]
     },
     "execution_count": 163,
     "metadata": {},
     "output_type": "execute_result"
    }
   ],
   "source": [
    "# for testing data\n",
    "r2_test_values_list = []\n",
    "adj_r2_test_list = []\n",
    "for i in range(1, x_test.shape[1]+1):\n",
    "    linear_reg = LinearRegression()\n",
    "    linear_reg.fit(x_test.iloc[:,:i], y_test)\n",
    "    \n",
    "    r2 = linear_reg.score(x_test.iloc[:,:i], y_test)\n",
    "    r2_test_values_list.append(r2)\n",
    "    \n",
    "    adj_r2 = 1-(((1-r2)*(x_test.shape[0]-1))/(x_test.shape[0]-x_test.iloc[:,:i].shape[1]-1))\n",
    "    adj_r2_test_list.append(adj_r2)\n",
    "    \n",
    "r2_test_df = pd.DataFrame({'correlation' : correlation.T[\"Price\"],\n",
    "                       'R2 Values' : r2_test_values_list,\n",
    "                       'Adjusted R2' : adj_r2_test_list}, index = x_test.columns)\n",
    "r2_test_df"
   ]
  },
  {
   "cell_type": "code",
   "execution_count": 165,
   "id": "13698dbf",
   "metadata": {},
   "outputs": [
    {
     "data": {
      "text/plain": [
       "Index(['Avg. Area Income', 'Avg. Area House Age', 'Avg. Area Number of Rooms',\n",
       "       'Avg. Area Number of Bedrooms', 'Area Population'],\n",
       "      dtype='object')"
      ]
     },
     "execution_count": 165,
     "metadata": {},
     "output_type": "execute_result"
    }
   ],
   "source": [
    "x.columns"
   ]
  },
  {
   "cell_type": "code",
   "execution_count": 166,
   "id": "a03c78d3",
   "metadata": {},
   "outputs": [
    {
     "data": {
      "text/html": [
       "<div>\n",
       "<style scoped>\n",
       "    .dataframe tbody tr th:only-of-type {\n",
       "        vertical-align: middle;\n",
       "    }\n",
       "\n",
       "    .dataframe tbody tr th {\n",
       "        vertical-align: top;\n",
       "    }\n",
       "\n",
       "    .dataframe thead th {\n",
       "        text-align: right;\n",
       "    }\n",
       "</style>\n",
       "<table border=\"1\" class=\"dataframe\">\n",
       "  <thead>\n",
       "    <tr style=\"text-align: right;\">\n",
       "      <th></th>\n",
       "      <th>Income_Area</th>\n",
       "      <th>House_Age</th>\n",
       "      <th>Rooms_Qty</th>\n",
       "      <th>Bedrooms_Qty</th>\n",
       "      <th>Area_Population</th>\n",
       "    </tr>\n",
       "  </thead>\n",
       "  <tbody>\n",
       "    <tr>\n",
       "      <th>0</th>\n",
       "      <td>79545.45857</td>\n",
       "      <td>5.682861</td>\n",
       "      <td>7.009188</td>\n",
       "      <td>4.09</td>\n",
       "      <td>23086.80050</td>\n",
       "    </tr>\n",
       "    <tr>\n",
       "      <th>1</th>\n",
       "      <td>79248.64245</td>\n",
       "      <td>6.002900</td>\n",
       "      <td>6.730821</td>\n",
       "      <td>3.09</td>\n",
       "      <td>40173.07217</td>\n",
       "    </tr>\n",
       "    <tr>\n",
       "      <th>2</th>\n",
       "      <td>80850.04183</td>\n",
       "      <td>6.635414</td>\n",
       "      <td>6.622450</td>\n",
       "      <td>2.10</td>\n",
       "      <td>41420.16082</td>\n",
       "    </tr>\n",
       "    <tr>\n",
       "      <th>3</th>\n",
       "      <td>68901.14428</td>\n",
       "      <td>5.295318</td>\n",
       "      <td>6.973878</td>\n",
       "      <td>2.01</td>\n",
       "      <td>30832.66831</td>\n",
       "    </tr>\n",
       "    <tr>\n",
       "      <th>4</th>\n",
       "      <td>50442.26643</td>\n",
       "      <td>4.767998</td>\n",
       "      <td>7.248288</td>\n",
       "      <td>6.07</td>\n",
       "      <td>33439.80668</td>\n",
       "    </tr>\n",
       "    <tr>\n",
       "      <th>...</th>\n",
       "      <td>...</td>\n",
       "      <td>...</td>\n",
       "      <td>...</td>\n",
       "      <td>...</td>\n",
       "      <td>...</td>\n",
       "    </tr>\n",
       "    <tr>\n",
       "      <th>179</th>\n",
       "      <td>60567.94414</td>\n",
       "      <td>7.830362</td>\n",
       "      <td>6.137356</td>\n",
       "      <td>3.46</td>\n",
       "      <td>22837.36103</td>\n",
       "    </tr>\n",
       "    <tr>\n",
       "      <th>180</th>\n",
       "      <td>78491.27543</td>\n",
       "      <td>6.999135</td>\n",
       "      <td>6.576763</td>\n",
       "      <td>4.02</td>\n",
       "      <td>25616.11549</td>\n",
       "    </tr>\n",
       "    <tr>\n",
       "      <th>181</th>\n",
       "      <td>63390.68689</td>\n",
       "      <td>7.250591</td>\n",
       "      <td>4.805081</td>\n",
       "      <td>2.13</td>\n",
       "      <td>33266.14549</td>\n",
       "    </tr>\n",
       "    <tr>\n",
       "      <th>182</th>\n",
       "      <td>68001.33124</td>\n",
       "      <td>5.534388</td>\n",
       "      <td>7.130144</td>\n",
       "      <td>5.44</td>\n",
       "      <td>42625.62016</td>\n",
       "    </tr>\n",
       "    <tr>\n",
       "      <th>183</th>\n",
       "      <td>65510.58180</td>\n",
       "      <td>5.992305</td>\n",
       "      <td>6.792336</td>\n",
       "      <td>4.07</td>\n",
       "      <td>46501.28380</td>\n",
       "    </tr>\n",
       "  </tbody>\n",
       "</table>\n",
       "<p>184 rows × 5 columns</p>\n",
       "</div>"
      ],
      "text/plain": [
       "     Income_Area  House_Age  Rooms_Qty  Bedrooms_Qty  Area_Population\n",
       "0    79545.45857   5.682861   7.009188          4.09      23086.80050\n",
       "1    79248.64245   6.002900   6.730821          3.09      40173.07217\n",
       "2    80850.04183   6.635414   6.622450          2.10      41420.16082\n",
       "3    68901.14428   5.295318   6.973878          2.01      30832.66831\n",
       "4    50442.26643   4.767998   7.248288          6.07      33439.80668\n",
       "..           ...        ...        ...           ...              ...\n",
       "179  60567.94414   7.830362   6.137356          3.46      22837.36103\n",
       "180  78491.27543   6.999135   6.576763          4.02      25616.11549\n",
       "181  63390.68689   7.250591   4.805081          2.13      33266.14549\n",
       "182  68001.33124   5.534388   7.130144          5.44      42625.62016\n",
       "183  65510.58180   5.992305   6.792336          4.07      46501.28380\n",
       "\n",
       "[184 rows x 5 columns]"
      ]
     },
     "execution_count": 166,
     "metadata": {},
     "output_type": "execute_result"
    }
   ],
   "source": [
    "x.rename({\"Avg. Area Income\": 'Income_Area', \"Avg. Area House Age\":'House_Age',\n",
    "          'Avg. Area Number of Rooms':\"Rooms_Qty\", 'Avg. Area Number of Bedrooms':\"Bedrooms_Qty\",\n",
    "           'Area Population':\"Area_Population\"}, axis=1, inplace=True)\n",
    "x"
   ]
  },
  {
   "cell_type": "code",
   "execution_count": 167,
   "id": "1207de37",
   "metadata": {
    "scrolled": true
   },
   "outputs": [
    {
     "data": {
      "text/plain": [
       "Index(['Income_Area', 'House_Age', 'Rooms_Qty', 'Bedrooms_Qty',\n",
       "       'Area_Population'],\n",
       "      dtype='object')"
      ]
     },
     "execution_count": 167,
     "metadata": {},
     "output_type": "execute_result"
    }
   ],
   "source": [
    "x.columns"
   ]
  },
  {
   "cell_type": "code",
   "execution_count": 169,
   "id": "88c40a2f",
   "metadata": {},
   "outputs": [],
   "source": [
    "def us_house_pp(Income_Area, House_Age, Rooms_Qty, Bedrooms_Qty,\n",
    "       Area_Population):\n",
    "    col_list = x.columns\n",
    "    test = np.zeros(len(x.columns))\n",
    "    test[0] = Income_Area\n",
    "    test[1] = House_Age\n",
    "    test[2] = Rooms_Qty\n",
    "    test[3] = Bedrooms_Qty\n",
    "    test[4] = Area_Population\n",
    "    \n",
    "    return linear_reg.predict([test])[0]"
   ]
  },
  {
   "cell_type": "code",
   "execution_count": 170,
   "id": "5ace6914",
   "metadata": {},
   "outputs": [
    {
     "name": "stderr",
     "output_type": "stream",
     "text": [
      "C:\\Users\\admin\\anaconda3\\lib\\site-packages\\sklearn\\base.py:450: UserWarning: X does not have valid feature names, but LinearRegression was fitted with feature names\n",
      "  warnings.warn(\n"
     ]
    },
    {
     "data": {
      "text/plain": [
       "1309196.2314139754"
      ]
     },
     "execution_count": 170,
     "metadata": {},
     "output_type": "execute_result"
    }
   ],
   "source": [
    "us_house_pp(70000, 6, 7, 4, 40000)"
   ]
  },
  {
   "cell_type": "code",
   "execution_count": 171,
   "id": "59b4d7ab",
   "metadata": {},
   "outputs": [],
   "source": [
    "with open(\"lin_reg.pkl\", \"wb\") as f:\n",
    "    pickle.dump(linear_reg, f)"
   ]
  },
  {
   "cell_type": "code",
   "execution_count": 173,
   "id": "f73e2e90",
   "metadata": {},
   "outputs": [],
   "source": [
    "import json\n",
    "us_house_data = {'Columns' : x.columns.tolist()}\n",
    "with open(\"us_house_data.json\", 'w') as f:\n",
    "    json.dump(us_house_data,f)"
   ]
  },
  {
   "cell_type": "markdown",
   "id": "a457495f",
   "metadata": {},
   "source": [
    "### Normality of Residual"
   ]
  },
  {
   "cell_type": "code",
   "execution_count": 51,
   "id": "da95e115",
   "metadata": {},
   "outputs": [
    {
     "data": {
      "text/plain": [
       "<AxesSubplot:xlabel='Price', ylabel='Density'>"
      ]
     },
     "execution_count": 51,
     "metadata": {},
     "output_type": "execute_result"
    },
    {
     "data": {
      "image/png": "[encoded data removed]",
      "text/plain": [
       "<Figure size 432x288 with 1 Axes>"
      ]
     },
     "metadata": {
      "needs_background": "light"
     },
     "output_type": "display_data"
    }
   ],
   "source": [
    "# Visualization\n",
    "# 1. KDE plot\n",
    "residual = y_train - y_pred_train\n",
    "sns.kdeplot(residual, fill=True)"
   ]
  },
  {
   "cell_type": "code",
   "execution_count": 52,
   "id": "b071b3f4",
   "metadata": {},
   "outputs": [
    {
     "data": {
      "text/plain": [
       "<AxesSubplot:xlabel='Price', ylabel='Count'>"
      ]
     },
     "execution_count": 52,
     "metadata": {},
     "output_type": "execute_result"
    },
    {
     "data": {
      "image/png": "[encoded data removed]",
      "text/plain": [
       "<Figure size 432x288 with 1 Axes>"
      ]
     },
     "metadata": {
      "needs_background": "light"
     },
     "output_type": "display_data"
    }
   ],
   "source": [
    "# 2. Histplot\n",
    "sns.histplot(residual, kde=True)"
   ]
  },
  {
   "cell_type": "code",
   "execution_count": 53,
   "id": "ec730be6",
   "metadata": {},
   "outputs": [
    {
     "data": {
      "image/png": "[encoded data removed]",
      "text/plain": [
       "<Figure size 432x288 with 1 Axes>"
      ]
     },
     "execution_count": 53,
     "metadata": {},
     "output_type": "execute_result"
    },
    {
     "data": {
      "image/png": "[encoded data removed]",
      "text/plain": [
       "<Figure size 432x288 with 1 Axes>"
      ]
     },
     "metadata": {
      "needs_background": "light"
     },
     "output_type": "display_data"
    }
   ],
   "source": [
    "# 3. Q-Q plot\n",
    "sm.qqplot(residual, line = '45', fit=True)"
   ]
  },
  {
   "cell_type": "code",
   "execution_count": 54,
   "id": "8fbe7839",
   "metadata": {},
   "outputs": [
    {
     "data": {
      "text/plain": [
       "0.543849834534864"
      ]
     },
     "execution_count": 54,
     "metadata": {},
     "output_type": "execute_result"
    }
   ],
   "source": [
    "# 4. Skew\n",
    "residual.skew()"
   ]
  },
  {
   "cell_type": "code",
   "execution_count": 55,
   "id": "ff377d73",
   "metadata": {},
   "outputs": [
    {
     "name": "stdout",
     "output_type": "stream",
     "text": [
      "Mean of residual :  -5.642579374264698e-10\n",
      "Median of residual :  -4664.749487946043\n",
      "Mode of residual :  -301597.5979419529\n"
     ]
    }
   ],
   "source": [
    "s1 = pd.Series(residual)\n",
    "mean =s1.mean()\n",
    "print(\"Mean of residual : \",mean)\n",
    "median =s1.median()\n",
    "print(\"Median of residual : \",median)\n",
    "mode =s1.mode()[0]\n",
    "print(\"Mode of residual : \",mode)"
   ]
  },
  {
   "cell_type": "markdown",
   "id": "dfdd3d60",
   "metadata": {},
   "source": [
    "#### Hypothesis testing"
   ]
  },
  {
   "cell_type": "code",
   "execution_count": 56,
   "id": "475be909",
   "metadata": {},
   "outputs": [
    {
     "name": "stdout",
     "output_type": "stream",
     "text": [
      "P Value :  0.00812460295855999\n",
      "Data is Not Normally Distributed\n",
      "Null Hypothesis is False\n",
      "Alternate Hypothesis is True\n"
     ]
    }
   ],
   "source": [
    "# 1. Shapiro\n",
    "_, p_val = shapiro(residual)\n",
    "print(\"P Value : \",p_val)\n",
    "if p_val >=0.05:\n",
    "    print(\"Data is Normally Distributed\")\n",
    "    print(\"Null Hypothesis is True\")\n",
    "    \n",
    "else:\n",
    "    print(\"Data is Not Normally Distributed\")\n",
    "    print(\"Null Hypothesis is False\")\n",
    "    print(\"Alternate Hypothesis is True\")"
   ]
  },
  {
   "cell_type": "code",
   "execution_count": 57,
   "id": "26bc60de",
   "metadata": {},
   "outputs": [
    {
     "name": "stdout",
     "output_type": "stream",
     "text": [
      "P Value :  3.1146640964784836e-40\n",
      "Data is Not Normally Distributed\n",
      "Null Hypothesis is False\n",
      "Alternate Hypothesis is True\n"
     ]
    }
   ],
   "source": [
    "# 2. kstest\n",
    "_, p_val = kstest(residual, 'norm')\n",
    "print(\"P Value : \",p_val)\n",
    "if p_val >=0.05:\n",
    "    print(\"Data is Normally Distributed\")\n",
    "    print(\"Null Hypothesis is True\")\n",
    "    \n",
    "else:\n",
    "    print(\"Data is Not Normally Distributed\")\n",
    "    print(\"Null Hypothesis is False\")\n",
    "    print(\"Alternate Hypothesis is True\")"
   ]
  },
  {
   "cell_type": "code",
   "execution_count": 58,
   "id": "759a27f3",
   "metadata": {},
   "outputs": [
    {
     "name": "stdout",
     "output_type": "stream",
     "text": [
      "P Value :  0.00030768977081668233\n",
      "Data is Not Normally Distributed\n",
      "Null Hypothesis is False\n",
      "Alternate Hypothesis is True\n"
     ]
    }
   ],
   "source": [
    "# 3. Normaltest\n",
    "_, p_val = normaltest(residual)\n",
    "print(\"P Value : \",p_val)\n",
    "if p_val >=0.05:\n",
    "    print(\"Data is Normally Distributed\")\n",
    "    print(\"Null Hypothesis is True\")\n",
    "    \n",
    "else:\n",
    "    print(\"Data is Not Normally Distributed\")\n",
    "    print(\"Null Hypothesis is False\")\n",
    "    print(\"Alternate Hypothesis is True\")"
   ]
  },
  {
   "cell_type": "markdown",
   "id": "d51d6a53",
   "metadata": {},
   "source": [
    "#### Homoscadasticity"
   ]
  },
  {
   "cell_type": "code",
   "execution_count": 59,
   "id": "5edfe88e",
   "metadata": {},
   "outputs": [
    {
     "data": {
      "image/png": "[encoded data removed]",
      "text/plain": [
       "<Figure size 432x288 with 1 Axes>"
      ]
     },
     "metadata": {
      "needs_background": "light"
     },
     "output_type": "display_data"
    }
   ],
   "source": [
    "sns.scatterplot(x=y_pred_train, y=residual)\n",
    "plt.savefig('homoscadasticity.png')"
   ]
  },
  {
   "cell_type": "code",
   "execution_count": 60,
   "id": "5434a081",
   "metadata": {},
   "outputs": [],
   "source": []
  },
  {
   "cell_type": "markdown",
   "id": "f350fb8c",
   "metadata": {},
   "source": [
    "### Regularization"
   ]
  },
  {
   "cell_type": "code",
   "execution_count": 61,
   "id": "bfb08a04",
   "metadata": {},
   "outputs": [
    {
     "data": {
      "text/plain": [
       "<AxesSubplot:>"
      ]
     },
     "execution_count": 61,
     "metadata": {},
     "output_type": "execute_result"
    },
    {
     "data": {
      "image/png": "[encoded data removed]",
      "text/plain": [
       "<Figure size 432x288 with 1 Axes>"
      ]
     },
     "metadata": {
      "needs_background": "light"
     },
     "output_type": "display_data"
    }
   ],
   "source": [
    "# plot for linear_reg coeff\n",
    "s1_m.sort_values().plot(kind='barh')"
   ]
  },
  {
   "cell_type": "markdown",
   "id": "1a4ea779",
   "metadata": {},
   "source": [
    "### Lasso regression"
   ]
  },
  {
   "cell_type": "code",
   "execution_count": 62,
   "id": "4d1fd5ab",
   "metadata": {},
   "outputs": [
    {
     "data": {
      "text/plain": [
       "Lasso(alpha=1)"
      ]
     },
     "execution_count": 62,
     "metadata": {},
     "output_type": "execute_result"
    }
   ],
   "source": [
    "lasso_model = Lasso(alpha=1)\n",
    "lasso_model.fit(x_train, y_train)"
   ]
  },
  {
   "cell_type": "code",
   "execution_count": 63,
   "id": "e384a4e7",
   "metadata": {},
   "outputs": [
    {
     "data": {
      "text/plain": [
       "0.8759550952990841"
      ]
     },
     "execution_count": 63,
     "metadata": {},
     "output_type": "execute_result"
    }
   ],
   "source": [
    "# R2 value for Training data\n",
    "lasso_model.score(x_train, y_train)"
   ]
  },
  {
   "cell_type": "code",
   "execution_count": 64,
   "id": "bf708839",
   "metadata": {},
   "outputs": [
    {
     "data": {
      "text/plain": [
       "0.9059840572044704"
      ]
     },
     "execution_count": 64,
     "metadata": {},
     "output_type": "execute_result"
    }
   ],
   "source": [
    "# R2 value for Testing data\n",
    "lasso_model.score(x_test, y_test)"
   ]
  },
  {
   "cell_type": "code",
   "execution_count": 65,
   "id": "e90fd237",
   "metadata": {},
   "outputs": [
    {
     "name": "stdout",
     "output_type": "stream",
     "text": [
      "MSE :  12367085776.817104\n",
      "RMSE :  111207.3998294048\n",
      "MAE :  84754.51633393977\n",
      "R2 squared :  0.8759550952990841\n"
     ]
    }
   ],
   "source": [
    "# for Training data\n",
    "y_pred_train_lasso = lasso_model.predict(x_train)\n",
    "\n",
    "mse = mean_squared_error(y_train, y_pred_train_lasso)\n",
    "print(\"MSE : \",mse)\n",
    "\n",
    "rmse = np.sqrt(mse)\n",
    "print(\"RMSE : \",rmse)\n",
    "\n",
    "mae = mean_absolute_error(y_train, y_pred_train_lasso)\n",
    "print(\"MAE : \",mae)\n",
    "\n",
    "r2 = r2_score(y_train, y_pred_train_lasso)\n",
    "print(\"R2 squared : \",r2)"
   ]
  },
  {
   "cell_type": "code",
   "execution_count": 66,
   "id": "c9680c75",
   "metadata": {},
   "outputs": [
    {
     "name": "stdout",
     "output_type": "stream",
     "text": [
      "MSE :  9409459785.625362\n",
      "RMSE :  97002.37000004362\n",
      "MAE :  76735.08557954994\n",
      "R2 squared :  0.9059840572044704\n"
     ]
    }
   ],
   "source": [
    "# for Testing data\n",
    "y_pred_lasso = lasso_model.predict(x_test)\n",
    "\n",
    "mse = mean_squared_error(y_test, y_pred_lasso)\n",
    "print(\"MSE : \",mse)\n",
    "\n",
    "rmse = np.sqrt(mse)\n",
    "print(\"RMSE : \",rmse)\n",
    "\n",
    "mae = mean_absolute_error(y_test, y_pred_lasso)\n",
    "print(\"MAE : \",mae)\n",
    "\n",
    "r2 = r2_score(y_test, y_pred_lasso)\n",
    "print(\"R2 squared : \",r2)"
   ]
  },
  {
   "cell_type": "code",
   "execution_count": 67,
   "id": "e9bfbced",
   "metadata": {},
   "outputs": [
    {
     "data": {
      "text/plain": [
       "<AxesSubplot:>"
      ]
     },
     "execution_count": 67,
     "metadata": {},
     "output_type": "execute_result"
    },
    {
     "data": {
      "image/png": "[encoded data removed]",
      "text/plain": [
       "<Figure size 432x288 with 1 Axes>"
      ]
     },
     "metadata": {
      "needs_background": "light"
     },
     "output_type": "display_data"
    }
   ],
   "source": [
    "s1_m_lasso = pd.Series(lasso_model.coef_, index=x.columns)\n",
    "s1_m_lasso.sort_values().plot(kind='barh')"
   ]
  },
  {
   "cell_type": "markdown",
   "id": "30a694d2",
   "metadata": {},
   "source": [
    "### Ridge Regression"
   ]
  },
  {
   "cell_type": "code",
   "execution_count": 68,
   "id": "12ff2cae",
   "metadata": {},
   "outputs": [
    {
     "data": {
      "text/plain": [
       "Ridge()"
      ]
     },
     "execution_count": 68,
     "metadata": {},
     "output_type": "execute_result"
    }
   ],
   "source": [
    "ridge_model = Ridge()\n",
    "ridge_model.fit(x_train, y_train)"
   ]
  },
  {
   "cell_type": "code",
   "execution_count": 69,
   "id": "bc8da1eb",
   "metadata": {},
   "outputs": [
    {
     "name": "stdout",
     "output_type": "stream",
     "text": [
      "MSE :  12369517083.171574\n",
      "RMSE :  111218.33069764882\n",
      "MAE :  84939.12650701935\n",
      "R2 squared :  0.875930708699809\n"
     ]
    }
   ],
   "source": [
    "# Training data\n",
    "y_pred_train_ridge = ridge_model.predict(x_train)\n",
    "mse = mean_squared_error(y_train, y_pred_train_ridge)\n",
    "print(\"MSE : \",mse)\n",
    "\n",
    "rmse = np.sqrt(mse)\n",
    "print(\"RMSE : \",rmse)\n",
    "\n",
    "mae = mean_absolute_error(y_train, y_pred_train_ridge)\n",
    "print(\"MAE : \",mae)\n",
    "\n",
    "r2 = r2_score(y_train, y_pred_train_ridge)\n",
    "print(\"R2 squared : \",r2)"
   ]
  },
  {
   "cell_type": "code",
   "execution_count": 70,
   "id": "d65f957d",
   "metadata": {},
   "outputs": [
    {
     "name": "stdout",
     "output_type": "stream",
     "text": [
      "MSE :  9359522457.881138\n",
      "RMSE :  96744.62495602088\n",
      "MAE :  76111.63350271061\n",
      "R2 squared :  0.9064830130484323\n"
     ]
    }
   ],
   "source": [
    "# for Testing data\n",
    "y_pred_ridge = ridge_model.predict(x_test)\n",
    "\n",
    "mse = mean_squared_error(y_test, y_pred_ridge)\n",
    "print(\"MSE : \",mse)\n",
    "\n",
    "rmse = np.sqrt(mse)\n",
    "print(\"RMSE : \",rmse)\n",
    "\n",
    "mae = mean_absolute_error(y_test, y_pred_ridge)\n",
    "print(\"MAE : \",mae)\n",
    "\n",
    "r2 = r2_score(y_test, y_pred_ridge)\n",
    "print(\"R2 squared : \",r2)"
   ]
  },
  {
   "cell_type": "code",
   "execution_count": 71,
   "id": "06062d54",
   "metadata": {},
   "outputs": [
    {
     "data": {
      "text/plain": [
       "<AxesSubplot:>"
      ]
     },
     "execution_count": 71,
     "metadata": {},
     "output_type": "execute_result"
    },
    {
     "data": {
      "image/png": "[encoded data removed]",
      "text/plain": [
       "<Figure size 432x288 with 1 Axes>"
      ]
     },
     "metadata": {
      "needs_background": "light"
     },
     "output_type": "display_data"
    }
   ],
   "source": [
    "s1_m_ridge = pd.Series(ridge_model.coef_, index=x.columns)\n",
    "s1_m_ridge.sort_values().plot(kind='barh')"
   ]
  },
  {
   "cell_type": "markdown",
   "id": "c488277f",
   "metadata": {},
   "source": [
    "### Hyperparameter Tuning"
   ]
  },
  {
   "cell_type": "code",
   "execution_count": 72,
   "id": "14f12cd6",
   "metadata": {},
   "outputs": [
    {
     "data": {
      "text/plain": [
       "Lasso(alpha=0.01)"
      ]
     },
     "execution_count": 72,
     "metadata": {},
     "output_type": "execute_result"
    }
   ],
   "source": [
    "# 1. Lasso Reg\n",
    "lasso_reg_model = Lasso()\n",
    "hyperparameter = {'alpha':np.arange(0.01,5,0.01)}\n",
    "gscv_lasso_model = GridSearchCV(lasso_reg_model, hyperparameter, cv=5)\n",
    "gscv_lasso_model.fit(x_train, y_train)\n",
    "gscv_lasso_model.best_estimator_"
   ]
  },
  {
   "cell_type": "code",
   "execution_count": 73,
   "id": "0ee9c6c9",
   "metadata": {},
   "outputs": [
    {
     "data": {
      "text/plain": [
       "{'alpha': 0.01}"
      ]
     },
     "execution_count": 73,
     "metadata": {},
     "output_type": "execute_result"
    }
   ],
   "source": [
    "gscv_lasso_model.best_params_"
   ]
  },
  {
   "cell_type": "code",
   "execution_count": 74,
   "id": "402096d1",
   "metadata": {},
   "outputs": [
    {
     "data": {
      "text/plain": [
       "Lasso(alpha=0.01)"
      ]
     },
     "execution_count": 74,
     "metadata": {},
     "output_type": "execute_result"
    }
   ],
   "source": [
    "# use this alpha=0.01 for lasso training & testing data\n",
    "lasso_model=Lasso(alpha=0.01)\n",
    "lasso_model.fit(x_train, y_train)"
   ]
  },
  {
   "cell_type": "code",
   "execution_count": 75,
   "id": "35fe0a64",
   "metadata": {},
   "outputs": [
    {
     "name": "stdout",
     "output_type": "stream",
     "text": [
      "MSE :  12367085774.11662\n",
      "RMSE :  111207.39981726314\n",
      "MAE :  84754.39468800253\n",
      "R2 squared :  0.8759550953261706\n"
     ]
    }
   ],
   "source": [
    "# for Training data\n",
    "lasso_model=Lasso(alpha=0.01)\n",
    "lasso_model.fit(x_train, y_train)\n",
    "\n",
    "y_pred_train_lasso = lasso_model.predict(x_train)\n",
    "\n",
    "mse = mean_squared_error(y_train, y_pred_train_lasso)\n",
    "print(\"MSE : \",mse)\n",
    "\n",
    "rmse = np.sqrt(mse)\n",
    "print(\"RMSE : \",rmse)\n",
    "\n",
    "mae = mean_absolute_error(y_train, y_pred_train_lasso)\n",
    "print(\"MAE : \",mae)\n",
    "\n",
    "r2 = r2_score(y_train, y_pred_train_lasso)\n",
    "print(\"R2 squared : \",r2)"
   ]
  },
  {
   "cell_type": "code",
   "execution_count": 76,
   "id": "a2de53b2",
   "metadata": {},
   "outputs": [
    {
     "name": "stdout",
     "output_type": "stream",
     "text": [
      "MSE :  9409531650.548931\n",
      "RMSE :  97002.740428036\n",
      "MAE :  76735.81126711269\n",
      "R2 squared :  0.9059833391559642\n"
     ]
    }
   ],
   "source": [
    "# for Testing data\n",
    "y_pred_lasso = lasso_model.predict(x_test)\n",
    "\n",
    "mse = mean_squared_error(y_test, y_pred_lasso)\n",
    "print(\"MSE : \",mse)\n",
    "\n",
    "rmse = np.sqrt(mse)\n",
    "print(\"RMSE : \",rmse)\n",
    "\n",
    "mae = mean_absolute_error(y_test, y_pred_lasso)\n",
    "print(\"MAE : \",mae)\n",
    "\n",
    "r2 = r2_score(y_test, y_pred_lasso)\n",
    "print(\"R2 squared : \",r2)"
   ]
  },
  {
   "cell_type": "code",
   "execution_count": 77,
   "id": "997175fc",
   "metadata": {},
   "outputs": [
    {
     "data": {
      "text/plain": [
       "<AxesSubplot:>"
      ]
     },
     "execution_count": 77,
     "metadata": {},
     "output_type": "execute_result"
    },
    {
     "data": {
      "image/png": "[encoded data removed]",
      "text/plain": [
       "<Figure size 432x288 with 1 Axes>"
      ]
     },
     "metadata": {
      "needs_background": "light"
     },
     "output_type": "display_data"
    }
   ],
   "source": [
    "s1_m_lasso = pd.Series(lasso_model.coef_, index=x.columns)\n",
    "s1_m_lasso.sort_values().plot(kind='barh')"
   ]
  },
  {
   "cell_type": "code",
   "execution_count": 78,
   "id": "dd3f9e32",
   "metadata": {},
   "outputs": [
    {
     "data": {
      "text/plain": [
       "Ridge(alpha=0.01)"
      ]
     },
     "execution_count": 78,
     "metadata": {},
     "output_type": "execute_result"
    }
   ],
   "source": [
    "# Hyperparameter tuning for Ridge model\n",
    "ridge_reg_model = Ridge()\n",
    "hyperparameter = {'alpha':np.arange(0.01,5,0.01)}\n",
    "gscv_ridge_model = GridSearchCV(ridge_reg_model, hyperparameter, cv=5)\n",
    "gscv_ridge_model.fit(x_train, y_train)\n",
    "gscv_ridge_model.best_estimator_"
   ]
  },
  {
   "cell_type": "code",
   "execution_count": 79,
   "id": "1e5d7794",
   "metadata": {},
   "outputs": [
    {
     "data": {
      "text/plain": [
       "{'alpha': 0.01}"
      ]
     },
     "execution_count": 79,
     "metadata": {},
     "output_type": "execute_result"
    }
   ],
   "source": [
    "gscv_ridge_model.best_params_"
   ]
  },
  {
   "cell_type": "code",
   "execution_count": 80,
   "id": "f91855a5",
   "metadata": {},
   "outputs": [
    {
     "data": {
      "text/plain": [
       "Ridge(alpha=0.01)"
      ]
     },
     "execution_count": 80,
     "metadata": {},
     "output_type": "execute_result"
    }
   ],
   "source": [
    "# use this alpha=0.01 for lasso training & testing data\n",
    "ridge_model=Ridge(alpha=0.01)\n",
    "ridge_model.fit(x_train, y_train)"
   ]
  },
  {
   "cell_type": "code",
   "execution_count": 81,
   "id": "c69278e2",
   "metadata": {},
   "outputs": [
    {
     "name": "stdout",
     "output_type": "stream",
     "text": [
      "MSE :  12367086021.628405\n",
      "RMSE :  111207.4009301018\n",
      "MAE :  84756.25781321214\n",
      "R2 squared :  0.8759550928435667\n"
     ]
    }
   ],
   "source": [
    "# Training data\n",
    "y_pred_train_ridge = ridge_model.predict(x_train)\n",
    "mse = mean_squared_error(y_train, y_pred_train_ridge)\n",
    "print(\"MSE : \",mse)\n",
    "\n",
    "rmse = np.sqrt(mse)\n",
    "print(\"RMSE : \",rmse)\n",
    "\n",
    "mae = mean_absolute_error(y_train, y_pred_train_ridge)\n",
    "print(\"MAE : \",mae)\n",
    "\n",
    "r2 = r2_score(y_train, y_pred_train_ridge)\n",
    "print(\"R2 squared : \",r2)"
   ]
  },
  {
   "cell_type": "code",
   "execution_count": 82,
   "id": "3607cebe",
   "metadata": {},
   "outputs": [
    {
     "name": "stdout",
     "output_type": "stream",
     "text": [
      "MSE :  9408996150.434187\n",
      "RMSE :  96999.98015687522\n",
      "MAE :  76729.52471499245\n",
      "R2 squared :  0.9059886896807873\n"
     ]
    }
   ],
   "source": [
    "# for Testing data\n",
    "y_pred_ridge = ridge_model.predict(x_test)\n",
    "\n",
    "mse = mean_squared_error(y_test, y_pred_ridge)\n",
    "print(\"MSE : \",mse)\n",
    "\n",
    "rmse = np.sqrt(mse)\n",
    "print(\"RMSE : \",rmse)\n",
    "\n",
    "mae = mean_absolute_error(y_test, y_pred_ridge)\n",
    "print(\"MAE : \",mae)\n",
    "\n",
    "r2 = r2_score(y_test, y_pred_ridge)\n",
    "print(\"R2 squared : \",r2)"
   ]
  },
  {
   "cell_type": "code",
   "execution_count": 83,
   "id": "18e31ad5",
   "metadata": {},
   "outputs": [
    {
     "data": {
      "text/html": [
       "<div>\n",
       "<style scoped>\n",
       "    .dataframe tbody tr th:only-of-type {\n",
       "        vertical-align: middle;\n",
       "    }\n",
       "\n",
       "    .dataframe tbody tr th {\n",
       "        vertical-align: top;\n",
       "    }\n",
       "\n",
       "    .dataframe thead th {\n",
       "        text-align: right;\n",
       "    }\n",
       "</style>\n",
       "<table border=\"1\" class=\"dataframe\">\n",
       "  <thead>\n",
       "    <tr style=\"text-align: right;\">\n",
       "      <th></th>\n",
       "      <th>Linear Reg</th>\n",
       "      <th>Lasso Reg</th>\n",
       "      <th>Ridge Reg</th>\n",
       "      <th>Lasso Reg (al 0.01)</th>\n",
       "      <th>Ridge Reg (al 0.01)</th>\n",
       "    </tr>\n",
       "  </thead>\n",
       "  <tbody>\n",
       "    <tr>\n",
       "      <th>MSE</th>\n",
       "      <td>9.409532e+09</td>\n",
       "      <td>9.409460e+09</td>\n",
       "      <td>9.359522e+09</td>\n",
       "      <td>9.409532e+09</td>\n",
       "      <td>9.408996e+09</td>\n",
       "    </tr>\n",
       "    <tr>\n",
       "      <th>RMSE</th>\n",
       "      <td>9.700274e+04</td>\n",
       "      <td>9.700237e+04</td>\n",
       "      <td>9.674462e+04</td>\n",
       "      <td>9.700274e+04</td>\n",
       "      <td>9.699998e+04</td>\n",
       "    </tr>\n",
       "    <tr>\n",
       "      <th>MAE</th>\n",
       "      <td>7.673581e+04</td>\n",
       "      <td>7.673508e+04</td>\n",
       "      <td>7.611163e+04</td>\n",
       "      <td>7.673581e+04</td>\n",
       "      <td>7.672952e+04</td>\n",
       "    </tr>\n",
       "    <tr>\n",
       "      <th>R2</th>\n",
       "      <td>9.059800e-01</td>\n",
       "      <td>9.059800e-01</td>\n",
       "      <td>9.064000e-01</td>\n",
       "      <td>9.059000e-01</td>\n",
       "      <td>9.059000e-01</td>\n",
       "    </tr>\n",
       "  </tbody>\n",
       "</table>\n",
       "</div>"
      ],
      "text/plain": [
       "        Linear Reg     Lasso Reg     Ridge Reg  Lasso Reg (al 0.01)  \\\n",
       "MSE   9.409532e+09  9.409460e+09  9.359522e+09         9.409532e+09   \n",
       "RMSE  9.700274e+04  9.700237e+04  9.674462e+04         9.700274e+04   \n",
       "MAE   7.673581e+04  7.673508e+04  7.611163e+04         7.673581e+04   \n",
       "R2    9.059800e-01  9.059800e-01  9.064000e-01         9.059000e-01   \n",
       "\n",
       "      Ridge Reg (al 0.01)  \n",
       "MSE          9.408996e+09  \n",
       "RMSE         9.699998e+04  \n",
       "MAE          7.672952e+04  \n",
       "R2           9.059000e-01  "
      ]
     },
     "execution_count": 83,
     "metadata": {},
     "output_type": "execute_result"
    }
   ],
   "source": [
    "#Testing Data\n",
    "result = pd.DataFrame({\"Linear Reg\":[9409532376.57,97002.74,76735.81,0.90598],\n",
    "                       'Lasso Reg':[9409459785.62,97002.37,76735.08,0.90598], \n",
    "                       'Ridge Reg':[9359522457.88,96744.62,76111.63,0.9064],\n",
    "                       \"Lasso Reg (al 0.01)\" : [9409531650.54,97002.74,76735.81,0.9059],\n",
    "                       \"Ridge Reg (al 0.01)\": [9408996150.43,96999.98,76729.52,0.9059]}\n",
    "                      , index = ['MSE', 'RMSE','MAE', 'R2'])\n",
    "result"
   ]
  },
  {
   "cell_type": "code",
   "execution_count": null,
   "id": "aef5b29e",
   "metadata": {},
   "outputs": [],
   "source": [
    "import pickle\n",
    "with open(\"LinearReg.model.pkl\", 'wb') as f:\n",
    "    pickle.dump(linear_reg , f)"
   ]
  },
  {
   "cell_type": "code",
   "execution_count": 84,
   "id": "2028f32c",
   "metadata": {},
   "outputs": [],
   "source": []
  },
  {
   "cell_type": "code",
   "execution_count": 85,
   "id": "c27d6321",
   "metadata": {},
   "outputs": [],
   "source": [
    "with open(\"lasso_reg.pkl\", \"wb\") as f:\n",
    "    pickle.dump(lasso_model, f)"
   ]
  },
  {
   "cell_type": "code",
   "execution_count": 86,
   "id": "1db76bdf",
   "metadata": {},
   "outputs": [],
   "source": [
    "with open(\"ridge_reg.pkl\" ,\"wb\") as f:\n",
    "    pickle.dump(ridge_model, f)"
   ]
  },
  {
   "cell_type": "code",
   "execution_count": 87,
   "id": "3ac9a231",
   "metadata": {},
   "outputs": [
    {
     "name": "stderr",
     "output_type": "stream",
     "text": [
      "2022/11/19 23:20:36 INFO mlflow.tracking.fluent: Autologging successfully enabled for statsmodels.\n",
      "2022/11/19 23:20:37 INFO mlflow.tracking.fluent: Autologging successfully enabled for sklearn.\n",
      "2022/11/19 23:20:37 INFO mlflow.tracking.fluent: Experiment with name 'Test' does not exist. Creating a new experiment.\n"
     ]
    },
    {
     "data": {
      "text/plain": [
       "<Experiment: artifact_location='file:///F:/Velocity_Aug_22/Class/Nov_22/LR_Model_Practice/mlruns/318280254659933470', creation_time=1668880237972, experiment_id='318280254659933470', last_update_time=1668880237972, lifecycle_stage='active', name='Test', tags={}>"
      ]
     },
     "execution_count": 87,
     "metadata": {},
     "output_type": "execute_result"
    }
   ],
   "source": [
    "import mlflow\n",
    "import mlflow.sklearn\n",
    "mlflow.autolog()\n",
    "\n",
    "mlflow.set_experiment(\"Test\")"
   ]
  },
  {
   "cell_type": "code",
   "execution_count": 88,
   "id": "070f9d66",
   "metadata": {},
   "outputs": [],
   "source": [
    "def eval_metrix(actual, predicted):\n",
    "    rmse = np.sqrt(mean_squared_error(actual, predicted))\n",
    "    mae = mean_absolute_error(actual,predicted)\n",
    "    r2 = r2_score(actual, predicted)\n",
    "    return rmse, mae, r2"
   ]
  },
  {
   "cell_type": "code",
   "execution_count": 89,
   "id": "672d56b8",
   "metadata": {},
   "outputs": [
    {
     "name": "stderr",
     "output_type": "stream",
     "text": [
      "2022/11/19 23:25:24 WARNING mlflow.utils.git_utils: Failed to import Git (the Git executable is probably not on your PATH), so Git SHA is not available. Error: Failed to initialize: Bad git executable.\n",
      "The git executable must be specified in one of the following ways:\n",
      "    - be included in your $PATH\n",
      "    - be set via $GIT_PYTHON_GIT_EXECUTABLE\n",
      "    - explicitly set via git.refresh()\n",
      "\n",
      "All git commands will error until this is rectified.\n",
      "\n",
      "This initial warning can be silenced or aggravated in the future by setting the\n",
      "$GIT_PYTHON_REFRESH environment variable. Use one of the following values:\n",
      "    - quiet|q|silence|s|none|n|0: for no warning or exception\n",
      "    - warn|w|warning|1: for a printed warning\n",
      "    - error|e|raise|r|2: for a raised exception\n",
      "\n",
      "Example:\n",
      "    export GIT_PYTHON_REFRESH=quiet\n",
      "\n",
      "2022/11/19 23:25:36 WARNING mlflow.utils.autologging_utils: MLflow autologging encountered a warning: \"C:\\Users\\admin\\anaconda3\\lib\\site-packages\\_distutils_hack\\__init__.py:30: UserWarning: Setuptools is replacing distutils.\"\n"
     ]
    }
   ],
   "source": [
    "x = df.drop(\"Price\", axis = 1)\n",
    "y = df[\"Price\"]\n",
    "\n",
    "x_train, x_test, y_train, y_test = train_test_split(x,y, test_size=0.2, random_state=10, shuffle=True)\n",
    "\n",
    "# mlflow training data Linear Reg\n",
    "with mlflow.start_run():                         # initialize\n",
    "    linear_reg_train = LinearRegression()\n",
    "    linear_reg_train.fit(x_train, y_train)\n",
    "    \n",
    "    y_train_pred = linear_reg_train.predict(x_train)\n",
    "    \n",
    "    rmse, mae, r2 = eval_metrix(y_train, y_train_pred)  # getting the metrics by using UDF\n",
    "    \n",
    "    mlflow.log_metrics({\"RMSE\" : rmse, \"MAE\" : mae, \"R2\" : r2}) # save metrics with specified names\n",
    "    \n",
    "    mlflow.set_tag(\"mlflow.runName\", \"linear_reg_train\")   # save the specified model names"
   ]
  },
  {
   "cell_type": "code",
   "execution_count": 90,
   "id": "5f138799",
   "metadata": {},
   "outputs": [],
   "source": [
    "# mlflow testing data LR\n",
    "with mlflow.start_run():\n",
    "    linear_reg_test = LinearRegression()\n",
    "    linear_reg_test.fit(x_train, y_train)\n",
    "    \n",
    "    y_test_pred = linear_reg_test.predict(x_test)\n",
    "    \n",
    "    rmse, mae, r2 = eval_metrix(y_test, y_test_pred)\n",
    "    \n",
    "    mlflow.log_metrics({\"RMSE\" : rmse, \"MAE\" : mae, \"R2\" : r2})\n",
    "    \n",
    "    mlflow.set_tag(\"mlflow.runName\", \"linear_reg_test\")"
   ]
  },
  {
   "cell_type": "code",
   "execution_count": 93,
   "id": "fa15b5d8",
   "metadata": {},
   "outputs": [],
   "source": [
    "# Training lasso\n",
    "with mlflow.start_run():\n",
    "    lasso_reg_train = Lasso(alpha=0.01)\n",
    "    lasso_reg_train.fit(x_train, y_train)\n",
    "    \n",
    "    y_train_pred = lasso_reg_train.predict(x_train)\n",
    "    \n",
    "    rmse, mae, r2 = eval_metrix(y_train, y_train_pred)\n",
    "    \n",
    "    mlflow.log_metrics({\"RMSE\" : rmse, \"MAE\" : mae, \"R2\" : r2})\n",
    "    \n",
    "    mlflow.set_tag(\"mlflow.runName\", \"lasso_reg_train\")"
   ]
  },
  {
   "cell_type": "code",
   "execution_count": 94,
   "id": "65fdbe4d",
   "metadata": {},
   "outputs": [],
   "source": [
    "# Testing lasso\n",
    "with mlflow.start_run():\n",
    "    lasso_reg_test = Lasso(alpha=0.01)\n",
    "    lasso_reg_test.fit(x_train, y_train)\n",
    "    \n",
    "    y_test_pred = lasso_reg_test.predict(x_test)\n",
    "    \n",
    "    rmse, mae, r2 = eval_metrix(y_test, y_test_pred)\n",
    "    \n",
    "    mlflow.log_metrics({\"RMSE\" : rmse, \"MAE\" : mae, \"R2\" : r2})\n",
    "    \n",
    "    mlflow.set_tag(\"mlflow.runName\", \"lasso_reg_test\")"
   ]
  },
  {
   "cell_type": "code",
   "execution_count": 95,
   "id": "39babcb0",
   "metadata": {},
   "outputs": [],
   "source": [
    "# training ridge\n",
    "with mlflow.start_run():\n",
    "    ridge_reg_train = Ridge(alpha=0.01)\n",
    "    ridge_reg_train.fit(x_train, y_train)\n",
    "    \n",
    "    y_train_pred = ridge_reg_train.predict(x_train)\n",
    "    \n",
    "    rmse, mae, r2 = eval_metrix(y_train, y_train_pred)\n",
    "    \n",
    "    mlflow.log_metrics({\"RMSE\" : rmse, \"MAE\" : mae, \"R2\" : r2})\n",
    "    \n",
    "    mlflow.set_tag(\"mlflow.runName\", \"ridge_reg_train\")"
   ]
  },
  {
   "cell_type": "code",
   "execution_count": 96,
   "id": "7c2b1325",
   "metadata": {},
   "outputs": [],
   "source": [
    "# Testing Ridge\n",
    "with mlflow.start_run():\n",
    "    ridge_reg_test = Ridge(alpha=0.01)\n",
    "    ridge_reg_test.fit(x_train, y_train)\n",
    "    \n",
    "    y_test_pred = ridge_reg_test.predict(x_test)\n",
    "    \n",
    "    rmse, mae, r2 = eval_metrix(y_test, y_test_pred)\n",
    "    \n",
    "    mlflow.log_metrics({\"RMSE\" : rmse, \"MAE\" : mae, \"R2\" : r2})\n",
    "    \n",
    "    mlflow.set_tag(\"mlflow.runName\", \"ridge_reg_test\")"
   ]
  },
  {
   "cell_type": "code",
   "execution_count": null,
   "id": "aa64af18",
   "metadata": {},
   "outputs": [],
   "source": []
  }
 ],
 "metadata": {
  "kernelspec": {
   "display_name": "Python 3 (ipykernel)",
   "language": "python",
   "name": "python3"
  },
  "language_info": {
   "codemirror_mode": {
    "name": "ipython",
    "version": 3
   },
   "file_extension": ".py",
   "mimetype": "text/x-python",
   "name": "python",
   "nbconvert_exporter": "python",
   "pygments_lexer": "ipython3",
   "version": "3.9.12"
  }
 },
 "nbformat": 4,
 "nbformat_minor": 5
}
